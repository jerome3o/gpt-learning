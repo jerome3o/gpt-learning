{
 "cells": [
  {
   "cell_type": "markdown",
   "id": "736c9868",
   "metadata": {},
   "source": [
    "# Build the Neural Network\n",
    "\n",
    "Neural networks comprise of layers/modules that perform operations on data. The torch.nn namespace provides all the building blocks you need to build your own neural network. Every module in PyTorch subclasses the nn.Module. A neural network is a module itself that consists of other modules (layers). This nested structure allows for building and managing complex architectures easily."
   ]
  },
  {
   "cell_type": "code",
   "execution_count": 1,
   "id": "9bac0d56",
   "metadata": {},
   "outputs": [],
   "source": [
    "import os\n",
    "import torch\n",
    "from torch import nn\n",
    "from torch.utils.data import DataLoader\n",
    "from torchvision import datasets, transforms"
   ]
  },
  {
   "cell_type": "code",
   "execution_count": 2,
   "id": "8498590c",
   "metadata": {},
   "outputs": [
    {
     "name": "stdout",
     "output_type": "stream",
     "text": [
      "Using cuda device\n"
     ]
    }
   ],
   "source": [
    "# select device\n",
    "\n",
    "device = \"cuda\" if torch.cuda.is_available() else \"cpu\"\n",
    "print(f\"Using {device} device\")"
   ]
  },
  {
   "cell_type": "markdown",
   "id": "2482ee49",
   "metadata": {},
   "source": [
    "# Define the Class\n",
    "\n",
    "We define our neural network by subclassing nn.Module, and initialize the neural network layers in `__init__`. Every nn.Module subclass implements the operations on input data in the forward method."
   ]
  },
  {
   "cell_type": "code",
   "execution_count": 3,
   "id": "16c5104e",
   "metadata": {},
   "outputs": [],
   "source": [
    "class NeuralNetwork(nn.Module):\n",
    "    def __init__(self):\n",
    "        super(NeuralNetwork, self).__init__()\n",
    "        self.flatten = nn.Flatten()\n",
    "        self.linear_relu_stack = nn.Sequential(\n",
    "            nn.Linear(28*28, 512),\n",
    "            nn.ReLU(),\n",
    "            nn.Linear(512, 512),\n",
    "            nn.ReLU(),\n",
    "            nn.Linear(512, 10),\n",
    "        )\n",
    "\n",
    "    def forward(self, x):\n",
    "        x = self.flatten(x)\n",
    "        logits = self.linear_relu_stack(x)\n",
    "        return logits"
   ]
  },
  {
   "cell_type": "code",
   "execution_count": 4,
   "id": "f581c1ad",
   "metadata": {},
   "outputs": [
    {
     "name": "stdout",
     "output_type": "stream",
     "text": [
      "NeuralNetwork(\n",
      "  (flatten): Flatten(start_dim=1, end_dim=-1)\n",
      "  (linear_relu_stack): Sequential(\n",
      "    (0): Linear(in_features=784, out_features=512, bias=True)\n",
      "    (1): ReLU()\n",
      "    (2): Linear(in_features=512, out_features=512, bias=True)\n",
      "    (3): ReLU()\n",
      "    (4): Linear(in_features=512, out_features=10, bias=True)\n",
      "  )\n",
      ")\n"
     ]
    }
   ],
   "source": [
    "model = NeuralNetwork().to(device)\n",
    "print(model)"
   ]
  },
  {
   "cell_type": "code",
   "execution_count": null,
   "id": "fbf75200",
   "metadata": {},
   "outputs": [],
   "source": [
    "X = torch.rand(100, 28, 28, device=device)\n"
   ]
  },
  {
   "cell_type": "code",
   "execution_count": 21,
   "id": "1ea4061e",
   "metadata": {},
   "outputs": [
    {
     "name": "stdout",
     "output_type": "stream",
     "text": [
      "Predicted class: tensor([2, 2, 2, 2, 2, 3, 2, 2, 3, 2, 3, 5, 2, 2, 3, 3, 3, 3, 2, 2, 2, 9, 3, 3,\n",
      "        3, 3, 2, 3, 2, 2, 3, 2, 3, 2, 3, 3, 2, 2, 3, 3, 2, 3, 2, 3, 3, 3, 2, 3,\n",
      "        2, 3, 3, 3, 2, 3, 3, 2, 2, 2, 2, 2, 2, 3, 3, 2, 3, 2, 2, 5, 3, 2, 3, 3,\n",
      "        2, 3, 3, 3, 3, 2, 8, 3, 3, 2, 9, 2, 3, 3, 2, 2, 2, 5, 3, 9, 3, 3, 2, 3,\n",
      "        2, 3, 2, 2], device='cuda:0')\n"
     ]
    }
   ],
   "source": [
    "\n",
    "logits = model(X)\n",
    "\n",
    "pred_probab = nn.Softmax(dim=1)(logits)\n",
    "y_pred = pred_probab.argmax(1)\n",
    "print(f\"Predicted class: {y_pred}\")"
   ]
  },
  {
   "cell_type": "code",
   "execution_count": 22,
   "id": "baecae4a",
   "metadata": {},
   "outputs": [
    {
     "data": {
      "text/plain": [
       "0.10914817452430725"
      ]
     },
     "execution_count": 22,
     "metadata": {},
     "output_type": "execute_result"
    }
   ],
   "source": [
    "sample_input_i = 5\n",
    "class_j = 2\n",
    "\n",
    "# probability (or model output?) for input sample i being in class j\n",
    "\n",
    "pred_probab[sample_input_i, class_j].item()"
   ]
  },
  {
   "cell_type": "code",
   "execution_count": 23,
   "id": "467e2393",
   "metadata": {},
   "outputs": [
    {
     "name": "stdout",
     "output_type": "stream",
     "text": [
      "torch.Size([3, 28, 28])\n"
     ]
    }
   ],
   "source": [
    "input_image = torch.rand(3,28,28)\n",
    "print(input_image.size())"
   ]
  },
  {
   "cell_type": "code",
   "execution_count": 24,
   "id": "74e8c6be",
   "metadata": {},
   "outputs": [],
   "source": [
    "import matplotlib.pyplot as plt"
   ]
  },
  {
   "cell_type": "code",
   "execution_count": 26,
   "id": "2a1aa787",
   "metadata": {},
   "outputs": [
    {
     "data": {
      "text/plain": [
       "<matplotlib.image.AxesImage at 0x7eff39d2b940>"
      ]
     },
     "execution_count": 26,
     "metadata": {},
     "output_type": "execute_result"
    },
    {
     "data": {
      "image/png": "[encoded data removed]",
      "text/plain": [
       "<Figure size 640x480 with 1 Axes>"
      ]
     },
     "metadata": {},
     "output_type": "display_data"
    }
   ],
   "source": [
    "plt.imshow(input_image[1].squeeze(), cmap=\"gray\")"
   ]
  },
  {
   "cell_type": "code",
   "execution_count": 27,
   "id": "a7be7768",
   "metadata": {},
   "outputs": [
    {
     "name": "stdout",
     "output_type": "stream",
     "text": [
      "torch.Size([3, 784])\n"
     ]
    }
   ],
   "source": [
    "flatten = nn.Flatten()\n",
    "flat_image = flatten(input_image)\n",
    "print(flat_image.size())"
   ]
  },
  {
   "cell_type": "code",
   "execution_count": 28,
   "id": "689c4ce7",
   "metadata": {},
   "outputs": [
    {
     "name": "stdout",
     "output_type": "stream",
     "text": [
      "torch.Size([3, 20])\n"
     ]
    }
   ],
   "source": [
    "layer1 = nn.Linear(in_features=28*28, out_features=20)\n",
    "hidden1 = layer1(flat_image)\n",
    "print(hidden1.size())"
   ]
  },
  {
   "cell_type": "code",
   "execution_count": 29,
   "id": "c144bdd7",
   "metadata": {},
   "outputs": [
    {
     "name": "stdout",
     "output_type": "stream",
     "text": [
      "Before ReLU: tensor([[-0.1450,  0.2874,  0.0013,  0.2169,  0.2097, -0.5973, -0.1007,  0.0153,\n",
      "         -0.2563,  0.1335, -0.0757,  0.3387,  0.3183, -0.3178, -0.0325,  0.2329,\n",
      "          0.0431,  0.3988,  0.1274,  0.0341],\n",
      "        [-0.1735, -0.0359,  0.1329,  0.1088,  0.3268, -0.6582,  0.3052, -0.3027,\n",
      "         -0.2222,  0.1349, -0.2923,  0.0358,  0.0410, -0.0654, -0.1386,  0.0789,\n",
      "          0.0997,  0.3692,  0.0746, -0.3563],\n",
      "        [-0.6097,  0.3441,  0.2170,  0.3496,  0.1699, -0.6214,  0.0904, -0.4425,\n",
      "         -0.4808, -0.1974, -0.2207, -0.0569,  0.1076,  0.0405, -0.3467, -0.1200,\n",
      "         -0.3497,  0.0986,  0.2153,  0.0808]], grad_fn=<AddmmBackward0>)\n",
      "\n",
      "\n",
      "After ReLU: tensor([[0.0000, 0.2874, 0.0013, 0.2169, 0.2097, 0.0000, 0.0000, 0.0153, 0.0000,\n",
      "         0.1335, 0.0000, 0.3387, 0.3183, 0.0000, 0.0000, 0.2329, 0.0431, 0.3988,\n",
      "         0.1274, 0.0341],\n",
      "        [0.0000, 0.0000, 0.1329, 0.1088, 0.3268, 0.0000, 0.3052, 0.0000, 0.0000,\n",
      "         0.1349, 0.0000, 0.0358, 0.0410, 0.0000, 0.0000, 0.0789, 0.0997, 0.3692,\n",
      "         0.0746, 0.0000],\n",
      "        [0.0000, 0.3441, 0.2170, 0.3496, 0.1699, 0.0000, 0.0904, 0.0000, 0.0000,\n",
      "         0.0000, 0.0000, 0.0000, 0.1076, 0.0405, 0.0000, 0.0000, 0.0000, 0.0986,\n",
      "         0.2153, 0.0808]], grad_fn=<ReluBackward0>)\n"
     ]
    }
   ],
   "source": [
    "print(f\"Before ReLU: {hidden1}\\n\\n\")\n",
    "hidden1 = nn.ReLU()(hidden1)\n",
    "print(f\"After ReLU: {hidden1}\")"
   ]
  },
  {
   "cell_type": "code",
   "execution_count": 119,
   "id": "f9959323",
   "metadata": {},
   "outputs": [],
   "source": [
    "input_image = torch.rand(3,28,28)\n",
    "relu_2 = nn.ReLU()\n",
    "linear_2 = nn.Linear(20, 10)"
   ]
  },
  {
   "cell_type": "code",
   "execution_count": 132,
   "id": "7acd7acf",
   "metadata": {},
   "outputs": [
    {
     "data": {
      "text/plain": [
       "tensor([[0., 0., 0., 0., 0., 0., 0., 0., 0., 0.],\n",
       "        [0., 0., 0., 0., 0., 0., 0., 0., 0., 0.],\n",
       "        [0., 0., 0., 0., 0., 0., 0., 0., 0., 0.]], grad_fn=<SubBackward0>)"
      ]
     },
     "execution_count": 132,
     "metadata": {},
     "output_type": "execute_result"
    }
   ],
   "source": [
    "# testing to see if you can put softmax in the nn pipeline\n",
    "seq_modules = nn.Sequential(\n",
    "    flatten,\n",
    "    layer1,\n",
    "    relu_2,\n",
    "    linear_2,\n",
    "    nn.Softmax(dim=1)\n",
    ")\n",
    "seq_modules_2 = nn.Sequential(\n",
    "    flatten,\n",
    "    layer1,\n",
    "    relu_2,\n",
    "    linear_2,\n",
    ")\n",
    "output_with_softmax = seq_modules(input_image)\n",
    "logits = seq_modules_2(input_image)\n",
    "nn.Softmax(dim=1)(logits) - output_with_softmax"
   ]
  },
  {
   "cell_type": "code",
   "execution_count": 133,
   "id": "63728bb1",
   "metadata": {},
   "outputs": [
    {
     "name": "stdout",
     "output_type": "stream",
     "text": [
      "Model structure: NeuralNetwork(\n",
      "  (flatten): Flatten(start_dim=1, end_dim=-1)\n",
      "  (linear_relu_stack): Sequential(\n",
      "    (0): Linear(in_features=784, out_features=512, bias=True)\n",
      "    (1): ReLU()\n",
      "    (2): Linear(in_features=512, out_features=512, bias=True)\n",
      "    (3): ReLU()\n",
      "    (4): Linear(in_features=512, out_features=10, bias=True)\n",
      "  )\n",
      ")\n",
      "\n",
      "\n",
      "Layer: linear_relu_stack.0.weight | Size: torch.Size([512, 784]) | Values : tensor([[ 0.0348, -0.0246,  0.0019,  ...,  0.0040, -0.0035,  0.0269],\n",
      "        [ 0.0192, -0.0156,  0.0167,  ..., -0.0061, -0.0035, -0.0289]],\n",
      "       device='cuda:0', grad_fn=<SliceBackward0>) \n",
      "\n",
      "Layer: linear_relu_stack.0.bias | Size: torch.Size([512]) | Values : tensor([-0.0158, -0.0236], device='cuda:0', grad_fn=<SliceBackward0>) \n",
      "\n",
      "Layer: linear_relu_stack.2.weight | Size: torch.Size([512, 512]) | Values : tensor([[-0.0133, -0.0216, -0.0432,  ..., -0.0141,  0.0098,  0.0093],\n",
      "        [-0.0425,  0.0004,  0.0038,  ...,  0.0333, -0.0093,  0.0252]],\n",
      "       device='cuda:0', grad_fn=<SliceBackward0>) \n",
      "\n",
      "Layer: linear_relu_stack.2.bias | Size: torch.Size([512]) | Values : tensor([0.0136, 0.0037], device='cuda:0', grad_fn=<SliceBackward0>) \n",
      "\n",
      "Layer: linear_relu_stack.4.weight | Size: torch.Size([10, 512]) | Values : tensor([[-0.0265, -0.0232, -0.0352,  ..., -0.0222, -0.0025,  0.0331],\n",
      "        [-0.0183, -0.0287,  0.0007,  ..., -0.0062, -0.0222,  0.0238]],\n",
      "       device='cuda:0', grad_fn=<SliceBackward0>) \n",
      "\n",
      "Layer: linear_relu_stack.4.bias | Size: torch.Size([10]) | Values : tensor([ 0.0045, -0.0285], device='cuda:0', grad_fn=<SliceBackward0>) \n",
      "\n"
     ]
    }
   ],
   "source": [
    "# using `model` from somewhere above..\n",
    "print(f\"Model structure: {model}\\n\\n\")\n",
    "\n",
    "for name, param in model.named_parameters():\n",
    "    print(f\"Layer: {name} | Size: {param.size()} | Values : {param[:2]} \\n\")"
   ]
  },
  {
   "cell_type": "code",
   "execution_count": 41,
   "id": "0faf13f8",
   "metadata": {},
   "outputs": [
    {
     "data": {
      "text/plain": [
       "tensor([[0.1181, 0.1129, 0.0863, 0.1254, 0.0812, 0.0830, 0.1040, 0.0809, 0.1098,\n",
       "         0.0983],\n",
       "        [0.1168, 0.1144, 0.0727, 0.1194, 0.0828, 0.0773, 0.1021, 0.0822, 0.1271,\n",
       "         0.1052],\n",
       "        [0.1235, 0.1179, 0.0714, 0.1205, 0.0871, 0.0878, 0.0966, 0.0879, 0.1008,\n",
       "         0.1066]], grad_fn=<SoftmaxBackward0>)"
      ]
     },
     "execution_count": 41,
     "metadata": {},
     "output_type": "execute_result"
    }
   ],
   "source": []
  },
  {
   "cell_type": "code",
   "execution_count": null,
   "id": "4db21839",
   "metadata": {},
   "outputs": [],
   "source": []
  }
 ],
 "metadata": {
  "kernelspec": {
   "display_name": "Python 3 (ipykernel)",
   "language": "python",
   "name": "python3"
  },
  "language_info": {
   "codemirror_mode": {
    "name": "ipython",
    "version": 3
   },
   "file_extension": ".py",
   "mimetype": "text/x-python",
   "name": "python",
   "nbconvert_exporter": "python",
   "pygments_lexer": "ipython3",
   "version": "3.8.10"
  }
 },
 "nbformat": 4,
 "nbformat_minor": 5
}
