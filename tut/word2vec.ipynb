{
 "cells": [
  {
   "cell_type": "markdown",
   "id": "5947c3d1-69b1-4b58-a6c2-14710c649e3d",
   "metadata": {},
   "source": [
    "# Re-making word2vec in PyTorch\n",
    "\n",
    "After partially reading [this](https://lena-voita.github.io/nlp_course/word_embeddings.html) I wanted to try and make word2vec in pytorch to test my understanding"
   ]
  },
  {
   "cell_type": "markdown",
   "id": "0a0be035-f40d-4434-90b7-7160ed10a2cd",
   "metadata": {},
   "source": [
    "## Imports"
   ]
  },
  {
   "cell_type": "code",
   "execution_count": null,
   "id": "91fa016d-b38f-49a6-b49e-a811a607597a",
   "metadata": {
    "tags": []
   },
   "outputs": [],
   "source": [
    "import sys\n",
    "sys.path.append(\"..\")\n",
    "\n",
    "import re\n",
    "\n",
    "from helpers.stats import mem_size\n",
    "\n",
    "from gensim.utils import simple_preprocess\n",
    "\n",
    "import torch\n",
    "import torch.optim as optim\n",
    "import torch.nn.functional as F\n",
    "\n",
    "\n",
    "device = \"cuda\" if torch.cuda.is_available() else \"cpu\""
   ]
  },
  {
   "cell_type": "markdown",
   "id": "d317caf9-e72f-4364-b3df-5e66fe699775",
   "metadata": {},
   "source": [
    "## Load and pre-process data"
   ]
  },
  {
   "cell_type": "code",
   "execution_count": null,
   "id": "dc366b40-e8ee-49e9-99fd-068d13e5cfa6",
   "metadata": {
    "tags": []
   },
   "outputs": [],
   "source": [
    "with open(\"data/imdb_text.txt\") as f:\n",
    "    all_text = f.read()"
   ]
  },
  {
   "cell_type": "code",
   "execution_count": null,
   "id": "84815e9c-47c6-44b4-ae68-a223d84f5b13",
   "metadata": {
    "tags": []
   },
   "outputs": [],
   "source": [
    "# pre-processing\n",
    "\n",
    "text = all_text\n",
    "\n",
    "# remove html\n",
    "text = re.sub(\"\\<.*\\/?\\>\", \"\", text)\n",
    "\n",
    "tokens = simple_preprocess(text)"
   ]
  },
  {
   "cell_type": "markdown",
   "id": "f741ac5d-9b84-45a0-83bb-ea6f8bc038dd",
   "metadata": {},
   "source": [
    "## Define helpers and params"
   ]
  },
  {
   "cell_type": "code",
   "execution_count": null,
   "id": "87c511e7-25f5-4ce5-b54f-7db445376f7f",
   "metadata": {
    "tags": []
   },
   "outputs": [],
   "source": [
    "embedding_dim = 300\n",
    "window_size = 11\n",
    "centre_index = window_size // 2\n",
    "\n",
    "index_to_word = list(set(tokens))\n",
    "i2wt = lambda x: index_to_word[int(x.item())]\n",
    "word_to_index = {w: i for i, w in enumerate(index_to_word)}\n",
    "indices_list = list(map(word_to_index.get, tokens))\n",
    "\n",
    "vocab_size = len(index_to_word)"
   ]
  },
  {
   "cell_type": "markdown",
   "id": "f957257a-c0ae-482b-8361-0e14f2fba765",
   "metadata": {},
   "source": [
    "## Initialise parameters for optimisation"
   ]
  },
  {
   "cell_type": "code",
   "execution_count": null,
   "id": "4ad02383-c4df-432c-87c6-fa8b3a14a1ea",
   "metadata": {
    "tags": []
   },
   "outputs": [],
   "source": [
    "V = torch.randn((vocab_size, embedding_dim), device=device)\n",
    "U = torch.randn((vocab_size, embedding_dim), device=device)\n",
    "\n",
    "V.requires_grad = True\n",
    "U.requires_grad = True\n",
    "\n",
    "indices = torch.tensor(indices_list, dtype=torch.float32, device=device).view(1,1,-1)\n",
    "training = F.unfold(indices, kernel_size=(1, window_size))\n",
    "training = training.transpose(0, 1)\n",
    "training = training.to(torch.int32)\n",
    "\n",
    "n_training = training.size()[0]"
   ]
  },
  {
   "cell_type": "markdown",
   "id": "be2b6d04-9124-4fee-9343-32deffd57db9",
   "metadata": {},
   "source": [
    "## Training loop for single word,context_word pairs\n",
    "\n",
    "This was extremely slow\n",
    "\n",
    "```\n",
    "o(epoch*training_size*window_size) (in python)\n",
    "```\n",
    "for each of those we need to matmul all of U (context vectors) with the current central word vector (V_i).\n"
   ]
  },
  {
   "cell_type": "code",
   "execution_count": null,
   "id": "c762b800-f342-4a10-9571-e973bf00a8f7",
   "metadata": {
    "tags": []
   },
   "outputs": [],
   "source": [
    "# from tqdm import tqdm\n",
    "\n",
    "# lr = 0.1\n",
    "\n",
    "# optimiser = optim.SGD(params=[V, U], lr=0.1)\n",
    "\n",
    "# for epoch in range(10):\n",
    "#     print(f\"epoch {epoch}\")\n",
    "#     for i in tqdm(range(training.size()[0])):\n",
    "#         # print(\" \".join(map(i2wt, training[i, :])))\n",
    "#         # print(i2wt(training[i, centre_index]))\n",
    "#         for j in range(window_size):\n",
    "#             if j == centre_index:\n",
    "#                 continue\n",
    "\n",
    "\n",
    "#             row = training[i, :]\n",
    "#             v_idx = int(training[i, centre_index].item())\n",
    "#             u_idx = int(training[i, j].item())\n",
    "\n",
    "#             v = V[v_idx]\n",
    "\n",
    "#             j_exp = torch.exp(torch.matmul(v.unsqueeze(0), U.unsqueeze(-1)).squeeze())\n",
    "#             j_v_u = -j_exp[i] + torch.log(j_exp.sum())\n",
    "\n",
    "# #             optimiser.zero_grad()\n",
    "\n",
    "# #             j_v_u.backward()\n",
    "\n",
    "# #             optimiser.step()\n",
    "            \n",
    "#             break\n",
    "#         break\n",
    "#     break\n"
   ]
  },
  {
   "cell_type": "markdown",
   "id": "a83a644e-a15c-492f-84c9-36a107d1ddc8",
   "metadata": {
    "tags": []
   },
   "source": [
    "## Training loop for batch_of_words,context_word pairs\n",
    "\n",
    "This is significantly faster, though still quite slow. Also I'm not sure if the objective function I calculate was correct.\n",
    "\n",
    "```\n",
    "o(epoch*(training_size//batch_size)*window_size) (in python)\n",
    "```\n",
    "for each of those we need to matmul all of U (context vectors) with the current batch of central word vectors."
   ]
  },
  {
   "cell_type": "code",
   "execution_count": null,
   "id": "164aff07-8e11-43f9-99b1-060ad94283c2",
   "metadata": {
    "tags": []
   },
   "outputs": [],
   "source": [
    "from tqdm import tqdm\n",
    "\n",
    "torch.cuda.empty_cache()\n",
    "\n",
    "batch_size = 1000\n",
    "\n",
    "lr = 0.1\n",
    "optimiser = optim.SGD(params=[V, U], lr=0.1)\n",
    "\n",
    "idx_list = list(range(0, n_training, batch_size)) + [n_training-1]\n",
    "training_idx_list = list(zip(idx_list[:-1], idx_list[1:]))\n",
    "\n",
    "# training_batch = training[:batch_size, :]\n",
    "# window_index = 0\n",
    "\n",
    "for epoch in range(10):\n",
    "    for batch_start_idx, batch_end_idx in tqdm(training_idx_list):\n",
    "        training_batch = training[batch_start_idx:batch_end_idx, :]\n",
    "        current_batch_size = training_batch.size()[0]\n",
    "        loss = 0\n",
    "        for window_index in range(window_size):\n",
    "            if window_index == centre_index:\n",
    "                continue\n",
    "\n",
    "            u_all_idx = training_batch[:, window_index]\n",
    "            v_all_idx = training_batch[:, centre_index]\n",
    "            v_all = V[v_all_idx]\n",
    "\n",
    "            j_dot = torch.tensordot(U.unsqueeze(1), v_all, dims=([-1], [-1])).squeeze()\n",
    "            j_exp = torch.exp(j_dot)\n",
    "\n",
    "            numerator = j_exp[u_all_idx, torch.arange(current_batch_size)]\n",
    "            denominator = j_exp.sum(dim=0)\n",
    "            inner = torch.clamp(numerator/denominator, min=1e-45)\n",
    "            j = -(1 / n_training)*torch.log(inner)\n",
    "           \n",
    "            loss = j.sum()\n",
    "\n",
    "            optimiser.zero_grad()\n",
    "            loss.backward()\n",
    "            optimiser.step()"
   ]
  },
  {
   "cell_type": "code",
   "execution_count": null,
   "id": "1ba3e0fc-1dc1-4b6a-9725-7e0d113fe43d",
   "metadata": {
    "tags": []
   },
   "outputs": [],
   "source": [
    "# 9617"
   ]
  }
 ],
 "metadata": {
  "kernelspec": {
   "display_name": "Python 3 (ipykernel)",
   "language": "python",
   "name": "python3"
  },
  "language_info": {
   "codemirror_mode": {
    "name": "ipython",
    "version": 3
   },
   "file_extension": ".py",
   "mimetype": "text/x-python",
   "name": "python",
   "nbconvert_exporter": "python",
   "pygments_lexer": "ipython3",
   "version": "3.8.10"
  }
 },
 "nbformat": 4,
 "nbformat_minor": 5
}
