{
 "cells": [
  {
   "cell_type": "markdown",
   "id": "ee0e9f04-a5cb-4304-b899-80590bc8dff3",
   "metadata": {},
   "source": [
    "# Building a Deep Neural Net for Sentiment Analysis on IMDb Reviews\n",
    "\n",
    "## 1. Data collection and preprocessing\n",
    "- Collect a dataset of IMDb reviews\n",
    "- Preprocess the text data (tokenization, lowercasing, removing special characters, etc.)\n",
    "- Split the dataset into training, validation, and test sets\n",
    "\n",
    "## 2. Model selection and architecture\n",
    "- Research different types of deep learning models (RNN, LSTM, GRU, CNN, Transformer)\n",
    "- Decide on a model architecture\n",
    "- Experiment with pre-trained models (BERT, GPT, RoBERTa) for fine-tuning\n",
    "\n",
    "## 3. Model training and hyperparameter tuning\n",
    "- Set up a training loop\n",
    "- Use backpropagation to update the model's weights based on the loss function\n",
    "- Experiment with different hyperparameters (learning rate, batch size, dropout rate, etc.) and optimization algorithms (Adam, RMSprop, etc.)\n",
    "- Monitor performance on the validation set during training\n",
    "\n",
    "## 4. Model evaluation and refinement\n",
    "- Evaluate the model on the test set using relevant metrics (accuracy, F1 score, precision, recall, etc.)\n",
    "- Identify areas for improvement and iterate on the model architecture, training process, or preprocessing techniques\n",
    "\n",
    "## 5. \"Extra for experts\" ideas\n",
    "- Handle class imbalance (oversampling, undersampling, or SMOTE)\n",
    "- Experiment with different word embeddings (Word2Vec, GloVe, FastText) or contextual embeddings (ELMo, BERT)\n",
    "- Explore advanced model architectures (multi-head attention, capsule networks, memory-augmented networks)\n",
    "- Investigate transfer learning or multi-task learning\n",
    "- Conduct error analysis to understand and address specific issues\n",
    "- Develop a user interface or API for your sentiment analysis model\n"
   ]
  },
  {
   "cell_type": "markdown",
   "id": "307e0e5a-4e3f-4fac-98e0-87478b32ccfd",
   "metadata": {},
   "source": [
    "# Load in data (collected from [kaggle](https://www.kaggle.com/datasets/lakshmi25npathi/imdb-dataset-of-50k-movie-reviews))"
   ]
  },
  {
   "cell_type": "code",
   "execution_count": 1,
   "id": "ab4e618b-85a5-461c-9ea6-917123d3c7cb",
   "metadata": {
    "tags": []
   },
   "outputs": [],
   "source": [
    "import pandas as pd"
   ]
  },
  {
   "cell_type": "code",
   "execution_count": 107,
   "id": "bd1bbbde-efe0-498c-b50a-d036bf9e2371",
   "metadata": {},
   "outputs": [],
   "source": [
    "# Load in training data\n",
    "\n",
    "data = pd.read_csv(\"../data/imdb_data.csv\")\n",
    "\n",
    "all_text_file = \"data/imdb_text.txt\"\n",
    "\n",
    "\n",
    "n_data = len(data)\n",
    "\n",
    "train_test_split = 0.9\n",
    "\n",
    "\n",
    "# Splitting train/test\n",
    "training_data = data[:int(len(data) * 0.9)]\n",
    "testing_data = data[int(len(data) * 0.9):]\n",
    "\n",
    "# can do this all in RAM because it's a pretty small dataset\n",
    "with open(all_text_file, \"w\") as f:\n",
    "    f.write(\"\\n\".join(training_data.iloc[:, 0]))"
   ]
  },
  {
   "cell_type": "code",
   "execution_count": 42,
   "id": "8803f786-fb47-4461-91dc-7cf2c2814b3f",
   "metadata": {
    "tags": []
   },
   "outputs": [
    {
     "name": "stdout",
     "output_type": "stream",
     "text": [
      "One of the other reviewers has mentioned that after watching just 1 Oz episode you'll be hooked. They are right, as this is exactly what happened with me.<br /><br />The first thing that struck me about Oz was its brutality and unflinching scenes of violence, which set in right from the word GO. Trust me, this is not a show for the faint hearted or timid. This show pulls no punches with regards to drugs, sex or violence. Its is hardcore, in the classic use of the word.<br /><br />It is called OZ as that is the nickname given to the Oswald Maximum Security State Penitentary. It focuses mainly on Emerald City, an experimental section of the prison where all the cells have glass fronts and face inwards, so privacy is not high on the agenda. Em City is home to many..Aryans, Muslims, gangstas, Latinos, Christians, Italians, Irish and more....so scuffles, death stares, dodgy dealings and shady agreements are never far away.<br /><br />I would say the main appeal of the show is due to the fact that it goes where other shows wouldn't dare. Forget pretty pictures painted for mainstream audiences, forget charm, forget romance...OZ doesn't mess around. The first episode I ever saw struck me as so nasty it was surreal, I couldn't say I was ready for it, but as I watched more, I developed a taste for Oz, and got accustomed to the high levels of graphic violence. Not just violence, but injustice (crooked guards who'll be sold out for a nickel, inmates who'll kill on order and get away with it, well mannered, middle class inmates being turned into prison bitches due to their lack of street skills or prison experience) Watching Oz, you may become comfortable with what is uncomfortable viewing....thats if you can get in touch with your darker side.\n",
      "A wonderful little production. <br /><br />The filming technique is very unassuming- very old-time-BBC fashion and gives a comforting, and sometimes discomforting, sense of realism to the entire piece. <br /><br />The actors are extremely\n"
     ]
    }
   ],
   "source": [
    "print(all_text[:2000])"
   ]
  },
  {
   "cell_type": "markdown",
   "id": "8dae0230-e751-4e6d-80ba-8b72cb79f6df",
   "metadata": {},
   "source": [
    "# Pre-processing\n",
    "\n",
    "Following is just me learning about pre-processing for natural language processing"
   ]
  },
  {
   "cell_type": "code",
   "execution_count": 9,
   "id": "95673530-901d-40e0-926b-376b075d98e6",
   "metadata": {
    "tags": []
   },
   "outputs": [],
   "source": [
    "# tokenisation\n",
    "\n",
    "v = data.iloc[0, 0]"
   ]
  },
  {
   "cell_type": "markdown",
   "id": "0b2edfc8-3388-450f-891e-4c80bf5e48df",
   "metadata": {},
   "source": [
    "### NLTK"
   ]
  },
  {
   "cell_type": "code",
   "execution_count": 10,
   "id": "1c9e2fb2-3167-4eb7-ab74-1da1398cc3f5",
   "metadata": {
    "tags": []
   },
   "outputs": [
    {
     "name": "stderr",
     "output_type": "stream",
     "text": [
      "[nltk_data] Downloading package punkt to /home/jerome/nltk_data...\n",
      "[nltk_data]   Unzipping tokenizers/punkt.zip.\n"
     ]
    },
    {
     "data": {
      "text/plain": [
       "True"
      ]
     },
     "execution_count": 10,
     "metadata": {},
     "output_type": "execute_result"
    }
   ],
   "source": [
    "import nltk\n",
    "\n",
    "nltk.download(\"punkt\")"
   ]
  },
  {
   "cell_type": "code",
   "execution_count": 28,
   "id": "40e21cd4-d4ac-4067-bfd0-dda55bda2fbf",
   "metadata": {
    "tags": []
   },
   "outputs": [
    {
     "name": "stdout",
     "output_type": "stream",
     "text": [
      "['One', 'of', 'the', 'other', 'reviewers', 'has', 'mentioned', 'that', 'after', 'watching']\n",
      "380\n"
     ]
    }
   ],
   "source": [
    "nltk_tokens = nltk.word_tokenize(v)\n",
    "print(nltk_tokens[:10])\n",
    "print(len(nltk_tokens))"
   ]
  },
  {
   "cell_type": "markdown",
   "id": "ee4b3b87-d016-4cfd-ac17-86c0030b6056",
   "metadata": {
    "tags": []
   },
   "source": [
    "### SpaCy"
   ]
  },
  {
   "cell_type": "code",
   "execution_count": 26,
   "id": "4b56c3c7-b026-4a3f-8a12-07e5160c8b0d",
   "metadata": {
    "tags": []
   },
   "outputs": [
    {
     "name": "stdout",
     "output_type": "stream",
     "text": [
      "['One', 'of', 'the', 'other', 'reviewers', 'has', 'mentioned', 'that', 'after', 'watching']\n",
      "359\n"
     ]
    }
   ],
   "source": [
    "import spacy\n",
    "\n",
    "nlp = spacy.load(\"en_core_web_sm\")\n",
    "\n",
    "doc = nlp(v)\n",
    "\n",
    "spacy_tokens = [token.text for token in doc]\n",
    "\n",
    "print(spacy_tokens[:10])\n",
    "print(len(spacy_tokens))"
   ]
  },
  {
   "cell_type": "code",
   "execution_count": 31,
   "id": "4ef4ea13-b619-462b-89b2-69bdecb32001",
   "metadata": {
    "tags": []
   },
   "outputs": [
    {
     "name": "stdout",
     "output_type": "stream",
     "text": [
      "{'/>The', 'away.<br', 'word.<br', 'me.<br', '/>I', '/><br', '/>It'}\n",
      "{'away.', 'br', '>', 'me.', 'word.', '/', '<'}\n"
     ]
    }
   ],
   "source": [
    "print(set(spacy_tokens).difference(nltk_tokens))\n",
    "print(set(nltk_tokens).difference(spacy_tokens))"
   ]
  },
  {
   "cell_type": "markdown",
   "id": "65beef76-9132-4886-b358-4172242853ef",
   "metadata": {},
   "source": [
    "### tokenizers (huggingface)"
   ]
  },
  {
   "cell_type": "code",
   "execution_count": 45,
   "id": "9f95a8dd-224a-44c1-9c12-8be8ee289554",
   "metadata": {
    "tags": []
   },
   "outputs": [
    {
     "name": "stdout",
     "output_type": "stream",
     "text": [
      "\n",
      "\n",
      "\n",
      "['One', 'of', 'the', 'other', 'reviewers', 'has', 'mentioned', 'that', 'after', 'watching']\n",
      "390\n"
     ]
    }
   ],
   "source": [
    "from tokenizers import Tokenizer, models, pre_tokenizers, decoders, processors\n",
    "\n",
    "# training my own tokenizer based on the imdb data\n",
    "# we would want to exclude test data if we were going to use this\n",
    "\n",
    "# Using the BPE tokenizer as an example\n",
    "tokenizer = Tokenizer(models.BPE())\n",
    "tokenizer.pre_tokenizer = pre_tokenizers.Whitespace()\n",
    "tokenizer.decoder = decoders.BPEDecoder()\n",
    "\n",
    "# Train the tokenizer on a sample text\n",
    "tokenizer.train([all_text_file])\n",
    "\n",
    "encoding = tokenizer.encode(v)\n",
    "tokens = encoding.tokens\n",
    "\n",
    "print(tokens[:10])\n",
    "print(len(tokens))"
   ]
  },
  {
   "cell_type": "markdown",
   "id": "b2456238-5b5c-45e4-86e7-0db746e3d1e6",
   "metadata": {
    "tags": []
   },
   "source": [
    "### SentencePiece"
   ]
  },
  {
   "cell_type": "code",
   "execution_count": 47,
   "id": "1aa0e626-1918-4dd4-a097-ece93536b96b",
   "metadata": {
    "collapsed": true,
    "jupyter": {
     "outputs_hidden": true
    },
    "tags": []
   },
   "outputs": [
    {
     "name": "stderr",
     "output_type": "stream",
     "text": [
      "sentencepiece_trainer.cc(77) LOG(INFO) Starts training with : \n",
      "trainer_spec {\n",
      "  input: data/imdb_text.txt\n",
      "  input_format: \n",
      "  model_prefix: spm\n",
      "  model_type: UNIGRAM\n",
      "  vocab_size: 2000\n",
      "  self_test_sample_size: 0\n",
      "  character_coverage: 0.9995\n",
      "  input_sentence_size: 0\n",
      "  shuffle_input_sentence: 1\n",
      "  seed_sentencepiece_size: 1000000\n",
      "  shrinking_factor: 0.75\n",
      "  max_sentence_length: 4192\n",
      "  num_threads: 16\n",
      "  num_sub_iterations: 2\n",
      "  max_sentencepiece_length: 16\n",
      "  split_by_unicode_script: 1\n",
      "  split_by_number: 1\n",
      "  split_by_whitespace: 1\n",
      "  split_digits: 0\n",
      "  treat_whitespace_as_suffix: 0\n",
      "  allow_whitespace_only_pieces: 0\n",
      "  required_chars: \n",
      "  byte_fallback: 0\n",
      "  vocabulary_output_piece_score: 1\n",
      "  train_extremely_large_corpus: 0\n",
      "  hard_vocab_limit: 1\n",
      "  use_all_vocab: 0\n",
      "  unk_id: 0\n",
      "  bos_id: 1\n",
      "  eos_id: 2\n",
      "  pad_id: -1\n",
      "  unk_piece: <unk>\n",
      "  bos_piece: <s>\n",
      "  eos_piece: </s>\n",
      "  pad_piece: <pad>\n",
      "  unk_surface:  ⁇ \n",
      "  enable_differential_privacy: 0\n",
      "  differential_privacy_noise_level: 0\n",
      "  differential_privacy_clipping_threshold: 0\n",
      "}\n",
      "normalizer_spec {\n",
      "  name: nmt_nfkc\n",
      "  add_dummy_prefix: 1\n",
      "  remove_extra_whitespaces: 1\n",
      "  escape_whitespaces: 1\n",
      "  normalization_rule_tsv: \n",
      "}\n",
      "denormalizer_spec {}\n",
      "trainer_interface.cc(350) LOG(INFO) SentenceIterator is not specified. Using MultiFileSentenceIterator.\n",
      "trainer_interface.cc(181) LOG(INFO) Loading corpus: data/imdb_text.txt\n",
      "trainer_interface.cc(377) LOG(WARNING) Found too long line (5255 > 4192).\n",
      "trainer_interface.cc(379) LOG(WARNING) Too long lines are skipped in the training.\n",
      "trainer_interface.cc(380) LOG(WARNING) The maximum length can be changed with --max_sentence_length=<size> flag.\n",
      "trainer_interface.cc(406) LOG(INFO) Loaded all 48714 sentences\n",
      "trainer_interface.cc(413) LOG(INFO) Skipped 1286 too long sentences.\n",
      "trainer_interface.cc(422) LOG(INFO) Adding meta_piece: <unk>\n",
      "trainer_interface.cc(422) LOG(INFO) Adding meta_piece: <s>\n",
      "trainer_interface.cc(422) LOG(INFO) Adding meta_piece: </s>\n",
      "trainer_interface.cc(427) LOG(INFO) Normalizing sentences...\n",
      "trainer_interface.cc(536) LOG(INFO) all chars count=58998562\n",
      "trainer_interface.cc(547) LOG(INFO) Done: 99.9565% characters are covered.\n",
      "trainer_interface.cc(557) LOG(INFO) Alphabet size=76\n",
      "trainer_interface.cc(558) LOG(INFO) Final character coverage=0.999565\n",
      "trainer_interface.cc(590) LOG(INFO) Done! preprocessed 48714 sentences.\n",
      "unigram_model_trainer.cc(146) LOG(INFO) Making suffix array...\n",
      "unigram_model_trainer.cc(150) LOG(INFO) Extracting frequent sub strings...\n",
      "unigram_model_trainer.cc(201) LOG(INFO) Initialized 316436 seed sentencepieces\n",
      "trainer_interface.cc(596) LOG(INFO) Tokenizing input sentences with whitespace: 48714\n",
      "trainer_interface.cc(607) LOG(INFO) Done! 409137\n",
      "unigram_model_trainer.cc(491) LOG(INFO) Using 409137 sentences for EM training\n",
      "unigram_model_trainer.cc(507) LOG(INFO) EM sub_iter=0 size=128027 obj=11.0664 num_tokens=995071 num_tokens/piece=7.77235\n",
      "unigram_model_trainer.cc(507) LOG(INFO) EM sub_iter=1 size=111976 obj=8.74995 num_tokens=1004364 num_tokens/piece=8.96946\n",
      "unigram_model_trainer.cc(507) LOG(INFO) EM sub_iter=0 size=83975 obj=8.71671 num_tokens=1037553 num_tokens/piece=12.3555\n",
      "unigram_model_trainer.cc(507) LOG(INFO) EM sub_iter=1 size=83945 obj=8.709 num_tokens=1040957 num_tokens/piece=12.4005\n",
      "unigram_model_trainer.cc(507) LOG(INFO) EM sub_iter=0 size=62958 obj=8.74945 num_tokens=1091754 num_tokens/piece=17.341\n",
      "unigram_model_trainer.cc(507) LOG(INFO) EM sub_iter=1 size=62958 obj=8.74044 num_tokens=1091844 num_tokens/piece=17.3424\n",
      "unigram_model_trainer.cc(507) LOG(INFO) EM sub_iter=0 size=47218 obj=8.80418 num_tokens=1151922 num_tokens/piece=24.3958\n",
      "unigram_model_trainer.cc(507) LOG(INFO) EM sub_iter=1 size=47218 obj=8.79293 num_tokens=1151803 num_tokens/piece=24.3933\n",
      "unigram_model_trainer.cc(507) LOG(INFO) EM sub_iter=0 size=35413 obj=8.8786 num_tokens=1217150 num_tokens/piece=34.3701\n",
      "unigram_model_trainer.cc(507) LOG(INFO) EM sub_iter=1 size=35413 obj=8.86371 num_tokens=1217065 num_tokens/piece=34.3677\n",
      "unigram_model_trainer.cc(507) LOG(INFO) EM sub_iter=0 size=26559 obj=8.97663 num_tokens=1285223 num_tokens/piece=48.3912\n",
      "unigram_model_trainer.cc(507) LOG(INFO) EM sub_iter=1 size=26559 obj=8.95737 num_tokens=1285144 num_tokens/piece=48.3883\n",
      "unigram_model_trainer.cc(507) LOG(INFO) EM sub_iter=0 size=19919 obj=9.09633 num_tokens=1353862 num_tokens/piece=67.9684\n",
      "unigram_model_trainer.cc(507) LOG(INFO) EM sub_iter=1 size=19919 obj=9.07234 num_tokens=1353662 num_tokens/piece=67.9583\n",
      "unigram_model_trainer.cc(507) LOG(INFO) EM sub_iter=0 size=14939 obj=9.24135 num_tokens=1424744 num_tokens/piece=95.3708\n",
      "unigram_model_trainer.cc(507) LOG(INFO) EM sub_iter=1 size=14939 obj=9.21237 num_tokens=1424650 num_tokens/piece=95.3645\n",
      "unigram_model_trainer.cc(507) LOG(INFO) EM sub_iter=0 size=11204 obj=9.40732 num_tokens=1497089 num_tokens/piece=133.621\n",
      "unigram_model_trainer.cc(507) LOG(INFO) EM sub_iter=1 size=11204 obj=9.37324 num_tokens=1496887 num_tokens/piece=133.603\n",
      "unigram_model_trainer.cc(507) LOG(INFO) EM sub_iter=0 size=8403 obj=9.59608 num_tokens=1567554 num_tokens/piece=186.547\n",
      "unigram_model_trainer.cc(507) LOG(INFO) EM sub_iter=1 size=8403 obj=9.55663 num_tokens=1567375 num_tokens/piece=186.526\n",
      "unigram_model_trainer.cc(507) LOG(INFO) EM sub_iter=0 size=6302 obj=9.80798 num_tokens=1640103 num_tokens/piece=260.251\n",
      "unigram_model_trainer.cc(507) LOG(INFO) EM sub_iter=1 size=6302 obj=9.76328 num_tokens=1640218 num_tokens/piece=260.269\n",
      "unigram_model_trainer.cc(507) LOG(INFO) EM sub_iter=0 size=4726 obj=10.0468 num_tokens=1715518 num_tokens/piece=362.996\n",
      "unigram_model_trainer.cc(507) LOG(INFO) EM sub_iter=1 size=4726 obj=9.99419 num_tokens=1715473 num_tokens/piece=362.986\n",
      "unigram_model_trainer.cc(507) LOG(INFO) EM sub_iter=0 size=3544 obj=10.3126 num_tokens=1787530 num_tokens/piece=504.382\n",
      "unigram_model_trainer.cc(507) LOG(INFO) EM sub_iter=1 size=3544 obj=10.2543 num_tokens=1787678 num_tokens/piece=504.424\n",
      "unigram_model_trainer.cc(507) LOG(INFO) EM sub_iter=0 size=2658 obj=10.6069 num_tokens=1863905 num_tokens/piece=701.243\n",
      "unigram_model_trainer.cc(507) LOG(INFO) EM sub_iter=1 size=2658 obj=10.5387 num_tokens=1864153 num_tokens/piece=701.337\n",
      "unigram_model_trainer.cc(507) LOG(INFO) EM sub_iter=0 size=2200 obj=10.7879 num_tokens=1920951 num_tokens/piece=873.16\n",
      "unigram_model_trainer.cc(507) LOG(INFO) EM sub_iter=1 size=2200 obj=10.7385 num_tokens=1921150 num_tokens/piece=873.25\n",
      "trainer_interface.cc(685) LOG(INFO) Saving model: spm.model\n",
      "trainer_interface.cc(697) LOG(INFO) Saving vocabs: spm.vocab\n"
     ]
    }
   ],
   "source": [
    "import sentencepiece as spm\n",
    "\n",
    "# Train the SentencePiece model on a sample text\n",
    "spm.SentencePieceTrainer.train(\n",
    "    input=all_text_file, \n",
    "    model_prefix=\"spm\", \n",
    "    vocab_size=2000,\n",
    ")\n",
    "\n",
    "sp = spm.SentencePieceProcessor()\n",
    "sp.load(\"spm.model\")\n",
    "\n",
    "tokens = sp.encode_as_pieces(v)"
   ]
  },
  {
   "cell_type": "code",
   "execution_count": 48,
   "id": "ab7aa499-ccc9-4e0e-bf12-ad957341a3ad",
   "metadata": {
    "tags": []
   },
   "outputs": [
    {
     "name": "stdout",
     "output_type": "stream",
     "text": [
      "['▁One', '▁of', '▁the', '▁other', '▁review', 'ers', '▁has', '▁mention', 'ed', '▁that']\n"
     ]
    }
   ],
   "source": [
    "print(tokens[:10])"
   ]
  },
  {
   "cell_type": "markdown",
   "id": "895b1409-b579-4e36-ba56-a4dd5423cc44",
   "metadata": {},
   "source": [
    "### gensim"
   ]
  },
  {
   "cell_type": "code",
   "execution_count": 52,
   "id": "d88538a1-3166-491c-b84b-1d5f47585d2e",
   "metadata": {
    "tags": []
   },
   "outputs": [
    {
     "name": "stdout",
     "output_type": "stream",
     "text": [
      "['one', 'of', 'the', 'other', 'reviewers', 'has', 'mentioned', 'that', 'after', 'watching']\n",
      "307\n"
     ]
    }
   ],
   "source": [
    "from gensim.utils import simple_preprocess\n",
    "\n",
    "tokens = simple_preprocess(v)\n",
    "\n",
    "print(tokens[:10])\n",
    "print(len(tokens))"
   ]
  },
  {
   "cell_type": "markdown",
   "id": "f8c343aa-7d34-4cb7-9abc-95223489b726",
   "metadata": {},
   "source": [
    "### Manual"
   ]
  },
  {
   "cell_type": "code",
   "execution_count": 89,
   "id": "2d25feaf-22e0-44b5-b015-850e7ac72f87",
   "metadata": {
    "tags": []
   },
   "outputs": [
    {
     "name": "stderr",
     "output_type": "stream",
     "text": [
      "[nltk_data] Downloading package stopwords to /home/jerome/nltk_data...\n",
      "[nltk_data]   Package stopwords is already up-to-date!\n",
      "[nltk_data] Downloading package averaged_perceptron_tagger to\n",
      "[nltk_data]     /home/jerome/nltk_data...\n",
      "[nltk_data]   Package averaged_perceptron_tagger is already up-to-\n",
      "[nltk_data]       date!\n",
      "[nltk_data] Downloading package wordnet to /home/jerome/nltk_data...\n"
     ]
    }
   ],
   "source": [
    "nltk.download(\"stopwords\")\n",
    "nltk.download('averaged_perceptron_tagger')\n",
    "nltk.download('wordnet')\n",
    "stop_words = set(nltk.corpus.stopwords.words())"
   ]
  },
  {
   "cell_type": "code",
   "execution_count": 98,
   "id": "66d77391-773b-4436-b744-d889ae6c5afb",
   "metadata": {
    "tags": []
   },
   "outputs": [],
   "source": [
    "import re\n",
    "from typing import List\n",
    "from nltk.corpus import wordnet\n",
    "from nltk.stem import WordNetLemmatizer\n",
    "\n",
    "\n",
    "def nltk_to_wordnet_pos(nltk_pos):\n",
    "    if nltk_pos.startswith('J'):\n",
    "        return wordnet.ADJ\n",
    "    elif nltk_pos.startswith('V'):\n",
    "        return wordnet.VERB\n",
    "    elif nltk_pos.startswith('N'):\n",
    "        return wordnet.NOUN\n",
    "    elif nltk_pos.startswith('R'):\n",
    "        return wordnet.ADV\n",
    "    else:\n",
    "        return wordnet.NOUN\n",
    "\n",
    "    \n",
    "# input text\n",
    "input_text = data.iloc[0, 0]\n",
    "\n",
    "text = input_text\n",
    "\n",
    "\n",
    "def _preprocess_text(text: str) -> List[str]:\n",
    "    # lower-casing\n",
    "    text = text.lower()\n",
    "\n",
    "    # remove html\n",
    "    text = re.sub(\"\\<.*\\/?\\>\", \"\", text)\n",
    "\n",
    "    # remove special characters\n",
    "    text = re.sub(\"[^\\w\\s]\", \"\", text)\n",
    "\n",
    "    # whitespace tokenizing\n",
    "    tokens = re.split(\"\\s\", text)\n",
    "\n",
    "    # add POS tags\n",
    "    pos_tagged_tokens = nltk.pos_tag(tokens)\n",
    "\n",
    "    # stem the words using wordnet lemmatizer\n",
    "    lemmatizer = WordNetLemmatizer()\n",
    "    lemmatized_tokens = [\n",
    "        lemmatizer.lemmatize(t, pos=nltk_to_wordnet_pos(pos)) \n",
    "        for t, pos in pos_tagged_tokens\n",
    "    ]\n",
    "\n",
    "    # remove stopwords\n",
    "    tokens = list(filter(lambda x: x not in stop_words, tokens))\n",
    "    \n",
    "    return tokens"
   ]
  },
  {
   "cell_type": "code",
   "execution_count": 104,
   "id": "c908fc13-0888-446e-97fd-f1b89adc78fa",
   "metadata": {
    "tags": []
   },
   "outputs": [
    {
     "name": "stdout",
     "output_type": "stream",
     "text": [
      "['reviewers', 'mentioned', 'watching', '1', 'oz', 'episode', 'youll', 'hooked', 'happened', 'appeal']\n",
      "73\n"
     ]
    }
   ],
   "source": [
    "manual_tokens = _preprocess_text(v)\n",
    "\n",
    "print(manual_tokens[:10])\n",
    "print(len(manual_tokens))"
   ]
  },
  {
   "cell_type": "markdown",
   "id": "4369f81d-b302-40c5-836d-d028bef85df1",
   "metadata": {
    "tags": []
   },
   "source": [
    "### I think that's enough pre-processing for now\n",
    "\n",
    "I think I now know enough basics about pre-processing. I need to look into models to then customise the pre-processing appropriately"
   ]
  },
  {
   "cell_type": "markdown",
   "id": "2f22dc09-66b0-4e28-9db7-0c72937ed0d3",
   "metadata": {},
   "source": [
    "## 2. Model selection and architecture\n",
    "- Research different types of deep learning models (RNN, LSTM, GRU, CNN, Transformer)\n",
    "- Decide on a model architecture\n",
    "- Experiment with pre-trained models (BERT, GPT, RoBERTa) for fine-tuning"
   ]
  },
  {
   "cell_type": "markdown",
   "id": "d63c931b-d1d2-441a-a147-f9980d5b17ee",
   "metadata": {
    "tags": []
   },
   "source": [
    "## RNN"
   ]
  },
  {
   "cell_type": "code",
   "execution_count": 115,
   "id": "1c557cc3-2ade-4df9-b063-7bad500c0a27",
   "metadata": {
    "tags": []
   },
   "outputs": [],
   "source": [
    "import torch\n",
    "import torch.nn as nn\n",
    "\n",
    "class RNNModel(nn.Module):\n",
    "    def __init__(\n",
    "        self,\n",
    "        vocab_size: int,\n",
    "        emb_dim: int = 300,\n",
    "        hidden_size: int = 300,\n",
    "        n_rnn_layers: int = 5,\n",
    "    ):\n",
    "        super().__init__()\n",
    "        self.emb = nn.Embedding(\n",
    "            num_embeddings=vocab_size,\n",
    "            embedding_dim=emb_dim,\n",
    "        )\n",
    "        self.rnn = nn.RNN(\n",
    "            input_size=emb_dim,\n",
    "            hidden_size=hidden_size,\n",
    "            num_layers=n_rnn_layers,\n",
    "        )\n",
    "\n",
    "        self.fc = nn.Linear(hidden_size, 2)\n",
    "\n",
    "    def forward(self, x: torch.Tensor):\n",
    "        # x shape: (B, L)\n",
    "        \n",
    "        # convert token indices to embedding values\n",
    "        x = self.emb(x)\n",
    "        # x shape: (B, L, Emb dim)\n",
    "        \n",
    "        # run the rnn, only taking the final rnn hidden state from the last layer\n",
    "        # TODO: understand the difference between the two outputs more\n",
    "        _, x = self.rnn(x)\n",
    "        # x shape: (B, n_rnn_layers, Hidden size?)\n",
    "        \n",
    "        # take only the\n",
    "        x = x[:, -1, :]\n",
    "        # x shape: (B, Hidden size?)\n",
    "        \n",
    "        x = self.fc(x)\n",
    "        # x shape: (B, 2)"
   ]
  },
  {
   "cell_type": "markdown",
   "id": "a7d25f47-c4b8-4247-8a8b-882a1488fc4a",
   "metadata": {},
   "source": [
    "## LSTM"
   ]
  },
  {
   "cell_type": "markdown",
   "id": "89f12621-ef68-4bea-9431-0a8e4394cd28",
   "metadata": {
    "tags": []
   },
   "source": [
    "## GRU"
   ]
  },
  {
   "cell_type": "markdown",
   "id": "d0fd38df-f1fc-45f6-8be5-e33e0329f1ba",
   "metadata": {
    "tags": []
   },
   "source": [
    "## CNN"
   ]
  },
  {
   "cell_type": "markdown",
   "id": "e47ca437-5e3f-4c86-bb9e-ff616a908af0",
   "metadata": {
    "tags": []
   },
   "source": [
    "## Transformer"
   ]
  },
  {
   "cell_type": "markdown",
   "id": "c4e25e01-cbcf-4252-9d15-a64a9b2a2c86",
   "metadata": {
    "tags": []
   },
   "source": [
    "## BERT"
   ]
  },
  {
   "cell_type": "markdown",
   "id": "925e1f47-66da-45f5-9e70-80dc90899f99",
   "metadata": {
    "tags": []
   },
   "source": [
    "## GPT"
   ]
  },
  {
   "cell_type": "markdown",
   "id": "02c57cea-68fa-467d-a070-821b388697de",
   "metadata": {
    "tags": []
   },
   "source": [
    "## RoBERTA"
   ]
  },
  {
   "cell_type": "code",
   "execution_count": null,
   "id": "2535b819-c311-4b7e-ba92-e977008cc736",
   "metadata": {},
   "outputs": [],
   "source": []
  }
 ],
 "metadata": {
  "kernelspec": {
   "display_name": "Python 3 (ipykernel)",
   "language": "python",
   "name": "python3"
  },
  "language_info": {
   "codemirror_mode": {
    "name": "ipython",
    "version": 3
   },
   "file_extension": ".py",
   "mimetype": "text/x-python",
   "name": "python",
   "nbconvert_exporter": "python",
   "pygments_lexer": "ipython3",
   "version": "3.8.10"
  }
 },
 "nbformat": 4,
 "nbformat_minor": 5
}
