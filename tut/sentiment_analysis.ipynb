{
 "cells": [
  {
   "cell_type": "markdown",
   "id": "ee0e9f04-a5cb-4304-b899-80590bc8dff3",
   "metadata": {},
   "source": [
    "# Building a Deep Neural Net for Sentiment Analysis on IMDb Reviews\n",
    "\n",
    "## 1. Data collection and preprocessing\n",
    "- Collect a dataset of IMDb reviews\n",
    "- Preprocess the text data (tokenization, lowercasing, removing special characters, etc.)\n",
    "- Split the dataset into training, validation, and test sets\n",
    "\n",
    "## 2. Model selection and architecture\n",
    "- Research different types of deep learning models (RNN, LSTM, GRU, CNN, Transformer)\n",
    "- Decide on a model architecture\n",
    "- Experiment with pre-trained models (BERT, GPT, RoBERTa) for fine-tuning\n",
    "\n",
    "## 3. Model training and hyperparameter tuning\n",
    "- Set up a training loop\n",
    "- Use backpropagation to update the model's weights based on the loss function\n",
    "- Experiment with different hyperparameters (learning rate, batch size, dropout rate, etc.) and optimization algorithms (Adam, RMSprop, etc.)\n",
    "- Monitor performance on the validation set during training\n",
    "\n",
    "## 4. Model evaluation and refinement\n",
    "- Evaluate the model on the test set using relevant metrics (accuracy, F1 score, precision, recall, etc.)\n",
    "- Identify areas for improvement and iterate on the model architecture, training process, or preprocessing techniques\n",
    "\n",
    "## 5. \"Extra for experts\" ideas\n",
    "- Handle class imbalance (oversampling, undersampling, or SMOTE)\n",
    "- Experiment with different word embeddings (Word2Vec, GloVe, FastText) or contextual embeddings (ELMo, BERT)\n",
    "- Explore advanced model architectures (multi-head attention, capsule networks, memory-augmented networks)\n",
    "- Investigate transfer learning or multi-task learning\n",
    "- Conduct error analysis to understand and address specific issues\n",
    "- Develop a user interface or API for your sentiment analysis model\n"
   ]
  },
  {
   "cell_type": "markdown",
   "id": "307e0e5a-4e3f-4fac-98e0-87478b32ccfd",
   "metadata": {},
   "source": [
    "# Load in data (collected from [kaggle](https://www.kaggle.com/datasets/lakshmi25npathi/imdb-dataset-of-50k-movie-reviews))"
   ]
  },
  {
   "cell_type": "code",
   "execution_count": 1,
   "id": "ab4e618b-85a5-461c-9ea6-917123d3c7cb",
   "metadata": {
    "tags": []
   },
   "outputs": [],
   "source": [
    "import pandas as pd"
   ]
  },
  {
   "cell_type": "code",
   "execution_count": 41,
   "id": "bd1bbbde-efe0-498c-b50a-d036bf9e2371",
   "metadata": {},
   "outputs": [],
   "source": [
    "# Load in training data\n",
    "\n",
    "data = pd.read_csv(\"../data/imdb_data.csv\")\n",
    "\n",
    "all_text_file = \"data/imdb_text.txt\"\n",
    "\n",
    "# can do this all in RAM because it's a pretty small dataset\n",
    "with open(all_text_file, \"w\") as f:\n",
    "    f.write(\"\\n\".join(data.iloc[:, 0]))"
   ]
  },
  {
   "cell_type": "code",
   "execution_count": 42,
   "id": "8803f786-fb47-4461-91dc-7cf2c2814b3f",
   "metadata": {
    "tags": []
   },
   "outputs": [
    {
     "name": "stdout",
     "output_type": "stream",
     "text": [
      "One of the other reviewers has mentioned that after watching just 1 Oz episode you'll be hooked. They are right, as this is exactly what happened with me.<br /><br />The first thing that struck me about Oz was its brutality and unflinching scenes of violence, which set in right from the word GO. Trust me, this is not a show for the faint hearted or timid. This show pulls no punches with regards to drugs, sex or violence. Its is hardcore, in the classic use of the word.<br /><br />It is called OZ as that is the nickname given to the Oswald Maximum Security State Penitentary. It focuses mainly on Emerald City, an experimental section of the prison where all the cells have glass fronts and face inwards, so privacy is not high on the agenda. Em City is home to many..Aryans, Muslims, gangstas, Latinos, Christians, Italians, Irish and more....so scuffles, death stares, dodgy dealings and shady agreements are never far away.<br /><br />I would say the main appeal of the show is due to the fact that it goes where other shows wouldn't dare. Forget pretty pictures painted for mainstream audiences, forget charm, forget romance...OZ doesn't mess around. The first episode I ever saw struck me as so nasty it was surreal, I couldn't say I was ready for it, but as I watched more, I developed a taste for Oz, and got accustomed to the high levels of graphic violence. Not just violence, but injustice (crooked guards who'll be sold out for a nickel, inmates who'll kill on order and get away with it, well mannered, middle class inmates being turned into prison bitches due to their lack of street skills or prison experience) Watching Oz, you may become comfortable with what is uncomfortable viewing....thats if you can get in touch with your darker side.\n",
      "A wonderful little production. <br /><br />The filming technique is very unassuming- very old-time-BBC fashion and gives a comforting, and sometimes discomforting, sense of realism to the entire piece. <br /><br />The actors are extremely\n"
     ]
    }
   ],
   "source": [
    "print(all_text[:2000])"
   ]
  },
  {
   "cell_type": "markdown",
   "id": "8dae0230-e751-4e6d-80ba-8b72cb79f6df",
   "metadata": {},
   "source": [
    "# Pre-processing\n",
    "\n",
    "Following is just me learning about pre-processing for natural language processing"
   ]
  },
  {
   "cell_type": "code",
   "execution_count": 9,
   "id": "95673530-901d-40e0-926b-376b075d98e6",
   "metadata": {
    "tags": []
   },
   "outputs": [],
   "source": [
    "# tokenisation\n",
    "\n",
    "v = data.iloc[0, 0]"
   ]
  },
  {
   "cell_type": "markdown",
   "id": "0b2edfc8-3388-450f-891e-4c80bf5e48df",
   "metadata": {},
   "source": [
    "### NLTK"
   ]
  },
  {
   "cell_type": "code",
   "execution_count": 10,
   "id": "1c9e2fb2-3167-4eb7-ab74-1da1398cc3f5",
   "metadata": {
    "tags": []
   },
   "outputs": [
    {
     "name": "stderr",
     "output_type": "stream",
     "text": [
      "[nltk_data] Downloading package punkt to /home/jerome/nltk_data...\n",
      "[nltk_data]   Unzipping tokenizers/punkt.zip.\n"
     ]
    },
    {
     "data": {
      "text/plain": [
       "True"
      ]
     },
     "execution_count": 10,
     "metadata": {},
     "output_type": "execute_result"
    }
   ],
   "source": [
    "import nltk\n",
    "\n",
    "nltk.download(\"punkt\")"
   ]
  },
  {
   "cell_type": "code",
   "execution_count": 28,
   "id": "40e21cd4-d4ac-4067-bfd0-dda55bda2fbf",
   "metadata": {
    "tags": []
   },
   "outputs": [
    {
     "name": "stdout",
     "output_type": "stream",
     "text": [
      "['One', 'of', 'the', 'other', 'reviewers', 'has', 'mentioned', 'that', 'after', 'watching']\n",
      "380\n"
     ]
    }
   ],
   "source": [
    "nltk_tokens = nltk.word_tokenize(v)\n",
    "print(nltk_tokens[:10])\n",
    "print(len(nltk_tokens))"
   ]
  },
  {
   "cell_type": "markdown",
   "id": "ee4b3b87-d016-4cfd-ac17-86c0030b6056",
   "metadata": {
    "tags": []
   },
   "source": [
    "### SpaCy"
   ]
  },
  {
   "cell_type": "code",
   "execution_count": 26,
   "id": "4b56c3c7-b026-4a3f-8a12-07e5160c8b0d",
   "metadata": {
    "tags": []
   },
   "outputs": [
    {
     "name": "stdout",
     "output_type": "stream",
     "text": [
      "['One', 'of', 'the', 'other', 'reviewers', 'has', 'mentioned', 'that', 'after', 'watching']\n",
      "359\n"
     ]
    }
   ],
   "source": [
    "import spacy\n",
    "\n",
    "nlp = spacy.load(\"en_core_web_sm\")\n",
    "\n",
    "doc = nlp(v)\n",
    "\n",
    "spacy_tokens = [token.text for token in doc]\n",
    "\n",
    "print(spacy_tokens[:10])\n",
    "print(len(spacy_tokens))"
   ]
  },
  {
   "cell_type": "code",
   "execution_count": 31,
   "id": "4ef4ea13-b619-462b-89b2-69bdecb32001",
   "metadata": {
    "tags": []
   },
   "outputs": [
    {
     "name": "stdout",
     "output_type": "stream",
     "text": [
      "{'/>The', 'away.<br', 'word.<br', 'me.<br', '/>I', '/><br', '/>It'}\n",
      "{'away.', 'br', '>', 'me.', 'word.', '/', '<'}\n"
     ]
    }
   ],
   "source": [
    "print(set(spacy_tokens).difference(nltk_tokens))\n",
    "print(set(nltk_tokens).difference(spacy_tokens))"
   ]
  },
  {
   "cell_type": "markdown",
   "id": "65beef76-9132-4886-b358-4172242853ef",
   "metadata": {},
   "source": [
    "### tokenizers (huggingface)"
   ]
  },
  {
   "cell_type": "code",
   "execution_count": 45,
   "id": "9f95a8dd-224a-44c1-9c12-8be8ee289554",
   "metadata": {
    "tags": []
   },
   "outputs": [
    {
     "name": "stdout",
     "output_type": "stream",
     "text": [
      "\n",
      "\n",
      "\n",
      "['One', 'of', 'the', 'other', 'reviewers', 'has', 'mentioned', 'that', 'after', 'watching']\n",
      "390\n"
     ]
    }
   ],
   "source": [
    "from tokenizers import Tokenizer, models, pre_tokenizers, decoders, processors\n",
    "\n",
    "# training my own tokenizer based on the imdb data\n",
    "# we would want to exclude test data if we were going to use this\n",
    "\n",
    "# Using the BPE tokenizer as an example\n",
    "tokenizer = Tokenizer(models.BPE())\n",
    "tokenizer.pre_tokenizer = pre_tokenizers.Whitespace()\n",
    "tokenizer.decoder = decoders.BPEDecoder()\n",
    "\n",
    "# Train the tokenizer on a sample text\n",
    "tokenizer.train([all_text_file])\n",
    "\n",
    "encoding = tokenizer.encode(v)\n",
    "tokens = encoding.tokens\n",
    "\n",
    "print(tokens[:10])\n",
    "print(len(tokens))"
   ]
  },
  {
   "cell_type": "code",
   "execution_count": 36,
   "id": "a68d57b9-94e4-44dd-8509-6247c45f5b26",
   "metadata": {
    "tags": []
   },
   "outputs": [
    {
     "data": {
      "text/plain": [
       "<tokenizers.models.BPE at 0x7f47c30408f0>"
      ]
     },
     "execution_count": 36,
     "metadata": {},
     "output_type": "execute_result"
    }
   ],
   "source": []
  },
  {
   "cell_type": "code",
   "execution_count": null,
   "id": "1aa0e626-1918-4dd4-a097-ece93536b96b",
   "metadata": {},
   "outputs": [],
   "source": []
  }
 ],
 "metadata": {
  "kernelspec": {
   "display_name": "Python 3 (ipykernel)",
   "language": "python",
   "name": "python3"
  },
  "language_info": {
   "codemirror_mode": {
    "name": "ipython",
    "version": 3
   },
   "file_extension": ".py",
   "mimetype": "text/x-python",
   "name": "python",
   "nbconvert_exporter": "python",
   "pygments_lexer": "ipython3",
   "version": "3.8.10"
  }
 },
 "nbformat": 4,
 "nbformat_minor": 5
}
