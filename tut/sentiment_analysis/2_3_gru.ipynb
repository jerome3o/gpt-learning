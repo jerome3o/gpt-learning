{
 "cells": [
  {
   "cell_type": "code",
   "execution_count": 1,
   "id": "b391a33a-4564-402c-9d62-50f023a75af8",
   "metadata": {},
   "outputs": [],
   "source": [
    "import torch\n",
    "import torch.nn as nn\n",
    "import torch.nn.functional as F\n",
    "from torch.nn.utils.rnn import pack_padded_sequence\n",
    "\n",
    "class SentimentAnalysis(nn.Module):\n",
    "    def __init__(\n",
    "            self,\n",
    "            vocab_size: int,\n",
    "            hidden_size: int,\n",
    "            embedding_size: int,\n",
    "        ):\n",
    "        self._hidden_size = hidden_size\n",
    "        self._embedding_size = embedding_size\n",
    "\n",
    "        self.emb = nn.Embedding(num_embeddings=vocab_size, embedding_dim=embedding_size)\n",
    "\n",
    "        self.gru = nn.GRU(\n",
    "            input_size=self._embedding_size,\n",
    "            hidden_size=self._hidden_size,\n",
    "        )\n",
    "\n",
    "        inner_size = 100\n",
    "\n",
    "        self.seq = nn.Sequential(\n",
    "            nn.Linear(hidden_size, inner_size),\n",
    "            nn.ReLU(),\n",
    "            nn.Linear(inner_size, 2),\n",
    "        )\n",
    "\n",
    "    def forward(self, x: torch.Tensor, lengths: torch.Tensor):\n",
    "        # x (n_batch, seq)\n",
    "\n",
    "        # apply embeddings\n",
    "        x = self.emb(x)\n",
    "        # x (n_batch, seq, emb_dim)\n",
    "\n",
    "        x.transpose(0, 1)\n",
    "        # x (seq, n_batch, emb_dim)\n",
    "\n",
    "        x = pack_padded_sequence(x, lengths)\n",
    "\n",
    "        # take last hidden layer output\n",
    "        _, h_n = self.gru(x)\n",
    "\n",
    "        return self.seq(h_n[-1, :, :])"
   ]
  },
  {
   "cell_type": "code",
   "execution_count": null,
   "id": "5e22bd5e",
   "metadata": {},
   "outputs": [],
   "source": []
  }
 ],
 "metadata": {
  "kernelspec": {
   "display_name": "Python 3 (ipykernel)",
   "language": "python",
   "name": "python3"
  },
  "language_info": {
   "codemirror_mode": {
    "name": "ipython",
    "version": 3
   },
   "file_extension": ".py",
   "mimetype": "text/x-python",
   "name": "python",
   "nbconvert_exporter": "python",
   "pygments_lexer": "ipython3",
   "version": "3.8.10"
  }
 },
 "nbformat": 4,
 "nbformat_minor": 5
}
