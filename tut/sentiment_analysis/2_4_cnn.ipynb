{
 "cells": [
  {
   "cell_type": "code",
   "execution_count": null,
   "id": "4f00c517-62c9-4f8b-a82c-426661d02f28",
   "metadata": {},
   "outputs": [],
   "source": [
    "# Skipping this one as i've done some CNN stuff recently"
   ]
  }
 ],
 "metadata": {
  "kernelspec": {
   "display_name": "Python 3 (ipykernel)",
   "language": "python",
   "name": "python3"
  },
  "language_info": {
   "codemirror_mode": {
    "name": "ipython",
    "version": 3
   },
   "file_extension": ".py",
   "mimetype": "text/x-python",
   "name": "python",
   "nbconvert_exporter": "python",
   "pygments_lexer": "ipython3",
   "version": "3.8.10"
  }
 },
 "nbformat": 4,
 "nbformat_minor": 5
}
