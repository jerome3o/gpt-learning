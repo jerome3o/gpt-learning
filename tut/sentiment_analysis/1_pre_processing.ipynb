{
 "cells": [
  {
   "cell_type": "markdown",
   "id": "ee0e9f04-a5cb-4304-b899-80590bc8dff3",
   "metadata": {},
   "source": [
    "# Building a Deep Neural Net for Sentiment Analysis on IMDb Reviews\n",
    "\n",
    "## 1. **Data collection and preprocessing**\n",
    "- Collect a dataset of IMDb reviews\n",
    "- Preprocess the text data (tokenization, lowercasing, removing special characters, etc.)\n",
    "- Split the dataset into training, validation, and test sets\n",
    "\n",
    "## 2. Model selection and architecture\n",
    "- Research different types of deep learning models (RNN, LSTM, GRU, CNN, Transformer)\n",
    "- Decide on a model architecture\n",
    "- Experiment with pre-trained models (BERT, GPT, RoBERTa) for fine-tuning\n",
    "\n",
    "## 3. Model training and hyperparameter tuning\n",
    "- Set up a training loop\n",
    "- Use backpropagation to update the model's weights based on the loss function\n",
    "- Experiment with different hyperparameters (learning rate, batch size, dropout rate, etc.) and optimization algorithms (Adam, RMSprop, etc.)\n",
    "- Monitor performance on the validation set during training\n",
    "\n",
    "## 4. Model evaluation and refinement\n",
    "- Evaluate the model on the test set using relevant metrics (accuracy, F1 score, precision, recall, etc.)\n",
    "- Identify areas for improvement and iterate on the model architecture, training process, or preprocessing techniques\n",
    "\n",
    "## 5. \"Extra for experts\" ideas\n",
    "- Handle class imbalance (oversampling, undersampling, or SMOTE)\n",
    "- Experiment with different word embeddings (Word2Vec, GloVe, FastText) or contextual embeddings (ELMo, BERT)\n",
    "- Explore advanced model architectures (multi-head attention, capsule networks, memory-augmented networks)\n",
    "- Investigate transfer learning or multi-task learning\n",
    "- Conduct error analysis to understand and address specific issues\n",
    "- Develop a user interface or API for your sentiment analysis model\n"
   ]
  },
  {
   "cell_type": "markdown",
   "id": "307e0e5a-4e3f-4fac-98e0-87478b32ccfd",
   "metadata": {},
   "source": [
    "# Load in data (collected from [kaggle](https://www.kaggle.com/datasets/lakshmi25npathi/imdb-dataset-of-50k-movie-reviews))"
   ]
  },
  {
   "cell_type": "code",
   "execution_count": 117,
   "id": "ab4e618b-85a5-461c-9ea6-917123d3c7cb",
   "metadata": {
    "tags": []
   },
   "outputs": [],
   "source": [
    "import pandas as pd"
   ]
  },
  {
   "cell_type": "code",
   "execution_count": 118,
   "id": "bd1bbbde-efe0-498c-b50a-d036bf9e2371",
   "metadata": {},
   "outputs": [],
   "source": [
    "# Load in training data\n",
    "\n",
    "data = pd.read_csv(\"../data/imdb_data.csv\")\n",
    "\n",
    "all_text_file = \"data/imdb_text.txt\"\n",
    "\n",
    "\n",
    "n_data = len(data)\n",
    "\n",
    "train_test_split = 0.9\n",
    "\n",
    "\n",
    "# Splitting train/test\n",
    "training_data = data[:int(len(data) * 0.9)]\n",
    "testing_data = data[int(len(data) * 0.9):]\n",
    "\n",
    "# can do this all in RAM because it's a pretty small dataset\n",
    "with open(all_text_file, \"w\") as f:\n",
    "    f.write(\"\\n\".join(training_data.iloc[:, 0]))"
   ]
  },
  {
   "cell_type": "code",
   "execution_count": 119,
   "id": "8803f786-fb47-4461-91dc-7cf2c2814b3f",
   "metadata": {
    "tags": []
   },
   "outputs": [
    {
     "name": "stdout",
     "output_type": "stream",
     "text": [
      "One of the other reviewers has mentioned that after watching just 1 Oz episode you'll be hooked. They are right, as this is exactly what happened with me.<br /><br />The first thing that struck me about Oz was its brutality and unflinching scenes of violence, which set in right from the word GO. Trust me, this is not a show for the faint hearted or timid. This show pulls no punches with regards to drugs, sex or violence. Its is hardcore, in the classic use of the word.<br /><br />It is called OZ as that is the nickname given to the Oswald Maximum Security State Penitentary. It focuses mainly on Emerald City, an experimental section of the prison where all the cells have glass fronts and face inwards, so privacy is not high on the agenda. Em City is home to many..Aryans, Muslims, gangstas, Latinos, Christians, Italians, Irish and more....so scuffles, death stares, dodgy dealings and shady agreements are never far away.<br /><br />I would say the main appeal of the show is due to the fact that it goes where other shows wouldn't dare. Forget pretty pictures painted for mainstream audiences, forget charm, forget romance...OZ doesn't mess around. The first episode I ever saw struck me as so nasty it was surreal, I couldn't say I was ready for it, but as I watched more, I developed a taste for Oz, and got accustomed to the high levels of graphic violence. Not just violence, but injustice (crooked guards who'll be sold out for a nickel, inmates who'll kill on order and get away with it, well mannered, middle class inmates being turned into prison bitches due to their lack of street skills or prison experience) Watching Oz, you may become comfortable with what is uncomfortable viewing....thats if you can get in touch with your darker side.\n",
      "A wonderful little production. <br /><br />The filming technique is very unassuming- very old-time-BBC fashion and gives a comforting, and sometimes discomforting, sense of realism to the entire piece. <br /><br />The actors are extremely\n"
     ]
    }
   ],
   "source": [
    "print(all_text[:2000])"
   ]
  },
  {
   "cell_type": "markdown",
   "id": "8dae0230-e751-4e6d-80ba-8b72cb79f6df",
   "metadata": {},
   "source": [
    "# Pre-processing\n",
    "\n",
    "Following is just me learning about pre-processing for natural language processing"
   ]
  },
  {
   "cell_type": "code",
   "execution_count": 120,
   "id": "95673530-901d-40e0-926b-376b075d98e6",
   "metadata": {
    "tags": []
   },
   "outputs": [],
   "source": [
    "# tokenisation\n",
    "\n",
    "v = data.iloc[0, 0]"
   ]
  },
  {
   "cell_type": "markdown",
   "id": "0b2edfc8-3388-450f-891e-4c80bf5e48df",
   "metadata": {},
   "source": [
    "### NLTK"
   ]
  },
  {
   "cell_type": "code",
   "execution_count": 121,
   "id": "1c9e2fb2-3167-4eb7-ab74-1da1398cc3f5",
   "metadata": {
    "tags": []
   },
   "outputs": [
    {
     "name": "stderr",
     "output_type": "stream",
     "text": [
      "[nltk_data] Downloading package punkt to /home/jerome/nltk_data...\n",
      "[nltk_data]   Package punkt is already up-to-date!\n"
     ]
    },
    {
     "data": {
      "text/plain": [
       "True"
      ]
     },
     "execution_count": 121,
     "metadata": {},
     "output_type": "execute_result"
    }
   ],
   "source": [
    "import nltk\n",
    "\n",
    "nltk.download(\"punkt\")"
   ]
  },
  {
   "cell_type": "code",
   "execution_count": 122,
   "id": "40e21cd4-d4ac-4067-bfd0-dda55bda2fbf",
   "metadata": {
    "tags": []
   },
   "outputs": [
    {
     "name": "stdout",
     "output_type": "stream",
     "text": [
      "['One', 'of', 'the', 'other', 'reviewers', 'has', 'mentioned', 'that', 'after', 'watching']\n",
      "380\n"
     ]
    }
   ],
   "source": [
    "nltk_tokens = nltk.word_tokenize(v)\n",
    "print(nltk_tokens[:10])\n",
    "print(len(nltk_tokens))"
   ]
  },
  {
   "cell_type": "markdown",
   "id": "ee4b3b87-d016-4cfd-ac17-86c0030b6056",
   "metadata": {
    "tags": []
   },
   "source": [
    "### SpaCy"
   ]
  },
  {
   "cell_type": "code",
   "execution_count": 123,
   "id": "4b56c3c7-b026-4a3f-8a12-07e5160c8b0d",
   "metadata": {
    "tags": []
   },
   "outputs": [
    {
     "name": "stdout",
     "output_type": "stream",
     "text": [
      "['One', 'of', 'the', 'other', 'reviewers', 'has', 'mentioned', 'that', 'after', 'watching']\n",
      "359\n"
     ]
    }
   ],
   "source": [
    "import spacy\n",
    "\n",
    "nlp = spacy.load(\"en_core_web_sm\")\n",
    "\n",
    "doc = nlp(v)\n",
    "\n",
    "spacy_tokens = [token.text for token in doc]\n",
    "\n",
    "print(spacy_tokens[:10])\n",
    "print(len(spacy_tokens))"
   ]
  },
  {
   "cell_type": "code",
   "execution_count": 124,
   "id": "4ef4ea13-b619-462b-89b2-69bdecb32001",
   "metadata": {
    "tags": []
   },
   "outputs": [
    {
     "name": "stdout",
     "output_type": "stream",
     "text": [
      "{'/>The', 'away.<br', 'word.<br', 'me.<br', '/>I', '/><br', '/>It'}\n",
      "{'away.', 'br', '>', 'me.', 'word.', '/', '<'}\n"
     ]
    }
   ],
   "source": [
    "print(set(spacy_tokens).difference(nltk_tokens))\n",
    "print(set(nltk_tokens).difference(spacy_tokens))"
   ]
  },
  {
   "cell_type": "markdown",
   "id": "65beef76-9132-4886-b358-4172242853ef",
   "metadata": {},
   "source": [
    "### tokenizers (huggingface)"
   ]
  },
  {
   "cell_type": "code",
   "execution_count": 125,
   "id": "9f95a8dd-224a-44c1-9c12-8be8ee289554",
   "metadata": {
    "tags": []
   },
   "outputs": [
    {
     "name": "stdout",
     "output_type": "stream",
     "text": [
      "\n",
      "\n",
      "\n",
      "['One', 'of', 'the', 'other', 'reviewers', 'has', 'mentioned', 'that', 'after', 'watching']\n",
      "392\n"
     ]
    }
   ],
   "source": [
    "from tokenizers import Tokenizer, models, pre_tokenizers, decoders, processors\n",
    "\n",
    "# training my own tokenizer based on the imdb data\n",
    "# we would want to exclude test data if we were going to use this\n",
    "\n",
    "# Using the BPE tokenizer as an example\n",
    "tokenizer = Tokenizer(models.BPE())\n",
    "tokenizer.pre_tokenizer = pre_tokenizers.Whitespace()\n",
    "tokenizer.decoder = decoders.BPEDecoder()\n",
    "\n",
    "# Train the tokenizer on a sample text\n",
    "tokenizer.train([all_text_file])\n",
    "\n",
    "encoding = tokenizer.encode(v)\n",
    "tokens = encoding.tokens\n",
    "\n",
    "print(tokens[:10])\n",
    "print(len(tokens))"
   ]
  },
  {
   "cell_type": "markdown",
   "id": "b2456238-5b5c-45e4-86e7-0db746e3d1e6",
   "metadata": {
    "tags": []
   },
   "source": [
    "### SentencePiece"
   ]
  },
  {
   "cell_type": "code",
   "execution_count": null,
   "id": "1aa0e626-1918-4dd4-a097-ece93536b96b",
   "metadata": {
    "tags": []
   },
   "outputs": [],
   "source": [
    "import sentencepiece as spm\n",
    "\n",
    "# Train the SentencePiece model on a sample text\n",
    "spm.SentencePieceTrainer.train(\n",
    "    input=all_text_file, \n",
    "    model_prefix=\"spm\", \n",
    "    vocab_size=2000,\n",
    ")\n",
    "\n",
    "sp = spm.SentencePieceProcessor()\n",
    "sp.load(\"spm.model\")\n",
    "\n",
    "tokens = sp.encode_as_pieces(v)"
   ]
  },
  {
   "cell_type": "code",
   "execution_count": null,
   "id": "ab7aa499-ccc9-4e0e-bf12-ad957341a3ad",
   "metadata": {
    "tags": []
   },
   "outputs": [],
   "source": [
    "print(tokens[:10])"
   ]
  },
  {
   "cell_type": "markdown",
   "id": "895b1409-b579-4e36-ba56-a4dd5423cc44",
   "metadata": {},
   "source": [
    "### gensim"
   ]
  },
  {
   "cell_type": "code",
   "execution_count": null,
   "id": "d88538a1-3166-491c-b84b-1d5f47585d2e",
   "metadata": {
    "tags": []
   },
   "outputs": [],
   "source": [
    "from gensim.utils import simple_preprocess\n",
    "\n",
    "tokens = simple_preprocess(v)\n",
    "\n",
    "print(tokens[:10])\n",
    "print(len(tokens))"
   ]
  },
  {
   "cell_type": "markdown",
   "id": "f8c343aa-7d34-4cb7-9abc-95223489b726",
   "metadata": {},
   "source": [
    "### Manual"
   ]
  },
  {
   "cell_type": "code",
   "execution_count": null,
   "id": "2d25feaf-22e0-44b5-b015-850e7ac72f87",
   "metadata": {
    "tags": []
   },
   "outputs": [],
   "source": [
    "nltk.download(\"stopwords\")\n",
    "nltk.download('averaged_perceptron_tagger')\n",
    "nltk.download('wordnet')\n",
    "stop_words = set(nltk.corpus.stopwords.words())"
   ]
  },
  {
   "cell_type": "code",
   "execution_count": null,
   "id": "66d77391-773b-4436-b744-d889ae6c5afb",
   "metadata": {
    "tags": []
   },
   "outputs": [],
   "source": [
    "import re\n",
    "from typing import List\n",
    "from nltk.corpus import wordnet\n",
    "from nltk.stem import WordNetLemmatizer\n",
    "\n",
    "\n",
    "def nltk_to_wordnet_pos(nltk_pos):\n",
    "    if nltk_pos.startswith('J'):\n",
    "        return wordnet.ADJ\n",
    "    elif nltk_pos.startswith('V'):\n",
    "        return wordnet.VERB\n",
    "    elif nltk_pos.startswith('N'):\n",
    "        return wordnet.NOUN\n",
    "    elif nltk_pos.startswith('R'):\n",
    "        return wordnet.ADV\n",
    "    else:\n",
    "        return wordnet.NOUN\n",
    "\n",
    "    \n",
    "# input text\n",
    "input_text = data.iloc[0, 0]\n",
    "\n",
    "text = input_text\n",
    "\n",
    "\n",
    "def _preprocess_text(text: str) -> List[str]:\n",
    "    # lower-casing\n",
    "    text = text.lower()\n",
    "\n",
    "    # remove html\n",
    "    text = re.sub(\"\\<.*\\/?\\>\", \"\", text)\n",
    "\n",
    "    # remove special characters\n",
    "    text = re.sub(\"[^\\w\\s]\", \"\", text)\n",
    "\n",
    "    # whitespace tokenizing\n",
    "    tokens = re.split(\"\\s\", text)\n",
    "\n",
    "    # add POS tags\n",
    "    pos_tagged_tokens = nltk.pos_tag(tokens)\n",
    "\n",
    "    # stem the words using wordnet lemmatizer\n",
    "    lemmatizer = WordNetLemmatizer()\n",
    "    lemmatized_tokens = [\n",
    "        lemmatizer.lemmatize(t, pos=nltk_to_wordnet_pos(pos)) \n",
    "        for t, pos in pos_tagged_tokens\n",
    "    ]\n",
    "\n",
    "    # remove stopwords\n",
    "    tokens = list(filter(lambda x: x not in stop_words, tokens))\n",
    "    \n",
    "    return tokens"
   ]
  },
  {
   "cell_type": "code",
   "execution_count": null,
   "id": "c908fc13-0888-446e-97fd-f1b89adc78fa",
   "metadata": {
    "tags": []
   },
   "outputs": [],
   "source": [
    "manual_tokens = _preprocess_text(v)\n",
    "\n",
    "print(manual_tokens[:10])\n",
    "print(len(manual_tokens))"
   ]
  },
  {
   "cell_type": "markdown",
   "id": "4369f81d-b302-40c5-836d-d028bef85df1",
   "metadata": {
    "tags": []
   },
   "source": [
    "### I think that's enough pre-processing for now\n",
    "\n",
    "I think I now know enough basics about pre-processing. I need to look into models to then customise the pre-processing appropriately"
   ]
  },
  {
   "cell_type": "markdown",
   "id": "2f22dc09-66b0-4e28-9db7-0c72937ed0d3",
   "metadata": {},
   "source": [
    "## 2. Model selection and architecture\n",
    "- Research different types of deep learning models (RNN, LSTM, GRU, CNN, Transformer)\n",
    "- Decide on a model architecture\n",
    "- Experiment with pre-trained models (BERT, GPT, RoBERTa) for fine-tuning\n",
    "\n",
    "\n",
    "See other notebooks for this work"
   ]
  },
  {
   "cell_type": "code",
   "execution_count": null,
   "id": "3d73e184-0369-4aba-954a-635c484b8f4e",
   "metadata": {},
   "outputs": [],
   "source": []
  },
  {
   "cell_type": "markdown",
   "id": "d63c931b-d1d2-441a-a147-f9980d5b17ee",
   "metadata": {
    "tags": []
   },
   "source": [
    "## RNN"
   ]
  },
  {
   "cell_type": "markdown",
   "id": "a7d25f47-c4b8-4247-8a8b-882a1488fc4a",
   "metadata": {},
   "source": [
    "## LSTM"
   ]
  },
  {
   "cell_type": "markdown",
   "id": "89f12621-ef68-4bea-9431-0a8e4394cd28",
   "metadata": {
    "tags": []
   },
   "source": [
    "## GRU"
   ]
  },
  {
   "cell_type": "markdown",
   "id": "d0fd38df-f1fc-45f6-8be5-e33e0329f1ba",
   "metadata": {
    "tags": []
   },
   "source": [
    "## CNN"
   ]
  },
  {
   "cell_type": "markdown",
   "id": "e47ca437-5e3f-4c86-bb9e-ff616a908af0",
   "metadata": {
    "tags": []
   },
   "source": [
    "## Transformer"
   ]
  },
  {
   "cell_type": "markdown",
   "id": "c4e25e01-cbcf-4252-9d15-a64a9b2a2c86",
   "metadata": {
    "tags": []
   },
   "source": [
    "## BERT"
   ]
  },
  {
   "cell_type": "markdown",
   "id": "925e1f47-66da-45f5-9e70-80dc90899f99",
   "metadata": {
    "tags": []
   },
   "source": [
    "## GPT"
   ]
  },
  {
   "cell_type": "markdown",
   "id": "02c57cea-68fa-467d-a070-821b388697de",
   "metadata": {
    "tags": []
   },
   "source": [
    "## RoBERTA"
   ]
  },
  {
   "cell_type": "code",
   "execution_count": null,
   "id": "2535b819-c311-4b7e-ba92-e977008cc736",
   "metadata": {},
   "outputs": [],
   "source": []
  }
 ],
 "metadata": {
  "kernelspec": {
   "display_name": "Python 3 (ipykernel)",
   "language": "python",
   "name": "python3"
  },
  "language_info": {
   "codemirror_mode": {
    "name": "ipython",
    "version": 3
   },
   "file_extension": ".py",
   "mimetype": "text/x-python",
   "name": "python",
   "nbconvert_exporter": "python",
   "pygments_lexer": "ipython3",
   "version": "3.8.10"
  }
 },
 "nbformat": 4,
 "nbformat_minor": 5
}
