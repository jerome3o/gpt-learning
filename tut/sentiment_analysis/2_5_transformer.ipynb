{
 "cells": [
  {
   "cell_type": "code",
   "execution_count": null,
   "id": "e1510dc1-66eb-42fe-8b88-7044a883a747",
   "metadata": {},
   "outputs": [],
   "source": [
    "selectionselectionselection"
   ]
  }
 ],
 "metadata": {
  "kernelspec": {
   "display_name": "Python 3 (ipykernel)",
   "language": "python",
   "name": "python3"
  },
  "language_info": {
   "codemirror_mode": {
    "name": "ipython",
    "version": 3
   },
   "file_extension": ".py",
   "mimetype": "text/x-python",
   "name": "python",
   "nbconvert_exporter": "python",
   "pygments_lexer": "ipython3",
   "version": "3.8.10"
  }
 },
 "nbformat": 4,
 "nbformat_minor": 5
}
