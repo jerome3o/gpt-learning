{
 "cells": [
  {
   "attachments": {},
   "cell_type": "markdown",
   "id": "e1510dc1-66eb-42fe-8b88-7044a883a747",
   "metadata": {},
   "source": [
    "Useful resources\n",
    "* [Andrej Karpathy Let's Build GPT](https://www.youtube.com/watch?v=kCc8FmEb1nY)\n",
    "* [PyTorch-Transformers](https://pytorch.org/hub/huggingface_pytorch-transformers/) (I think this got spun out into the transformers package)\n",
    "* [Actual tranformers in pytorch](https://pytorch.org/docs/stable/generated/torch.nn.Transformer.html)\n",
    "* [In depth Sentiment analysis w transformers on kaggle](https://www.kaggle.com/code/emirkocak/in-depth-series-sentiment-analysis-w-transformers)\n",
    "* Some papers\n",
    "    * [Text Sentiment Analysis Based on Transformer and Augmentation](https://www.frontiersin.org/articles/10.3389/fpsyg.2022.906061/full)\n",
    "    * [Transformer-based deep learning models for the sentiment analysis of social media data](https://www.sciencedirect.com/science/article/pii/S2590005622000224)"
   ]
  },
  {
   "cell_type": "code",
   "execution_count": 1,
   "id": "149a9109",
   "metadata": {},
   "outputs": [
    {
     "ename": "ModuleNotFoundError",
     "evalue": "No module named 'torch'",
     "output_type": "error",
     "traceback": [
      "\u001b[0;31m---------------------------------------------------------------------------\u001b[0m",
      "\u001b[0;31mModuleNotFoundError\u001b[0m                       Traceback (most recent call last)",
      "Cell \u001b[0;32mIn[1], line 1\u001b[0m\n\u001b[0;32m----> 1\u001b[0m \u001b[39mimport\u001b[39;00m \u001b[39mtorch\u001b[39;00m\n\u001b[1;32m      2\u001b[0m \u001b[39mimport\u001b[39;00m \u001b[39mtorch\u001b[39;00m\u001b[39m.\u001b[39;00m\u001b[39mnn\u001b[39;00m \u001b[39mas\u001b[39;00m \u001b[39mnn\u001b[39;00m\n\u001b[1;32m      3\u001b[0m \u001b[39mimport\u001b[39;00m \u001b[39mtorch\u001b[39;00m\u001b[39m.\u001b[39;00m\u001b[39mnn\u001b[39;00m\u001b[39m.\u001b[39;00m\u001b[39mfunctional\u001b[39;00m \u001b[39mas\u001b[39;00m \u001b[39mF\u001b[39;00m\n",
      "\u001b[0;31mModuleNotFoundError\u001b[0m: No module named 'torch'"
     ]
    }
   ],
   "source": [
    "import torch\n",
    "import torch.nn as nn\n",
    "import torch.nn.functional as F\n",
    "\n",
    "\n",
    "class SentimentAnalysis(nn.Module):\n",
    "    def __init__(\n",
    "        self,\n",
    "        vocab_size: int,\n",
    "        embedding_dim: int = 128,\n",
    "        num_classes: int = 2,\n",
    "    ):\n",
    "        super().__init__()\n",
    "\n",
    "        self.emb = nn.Embedding(vocab_size, embedding_dim=embedding_dim)\n",
    "        self.transformer = nn.Transformer(embedding_dim, 8, 4, 4, 4, 0.1)\n",
    "\n",
    "        self.fc = nn.Linear(embedding_dim, num_classes)\n",
    "\n",
    "    def forward(self, x):\n",
    "        x = self.emb(x)\n",
    "        x = x.permute(1, 0, 2)\n",
    "        x = self.transformer(x, x)\n",
    "        x = x.permute(1, 0, 2)\n",
    "        x = x[:, -1]\n",
    "        x = self.fc(x)\n",
    "        x = torch.sigmoid(x)\n",
    "        return x"
   ]
  },
  {
   "cell_type": "code",
   "execution_count": null,
   "id": "732ecfe8",
   "metadata": {},
   "outputs": [],
   "source": []
  }
 ],
 "metadata": {
  "kernelspec": {
   "display_name": "Python 3 (ipykernel)",
   "language": "python",
   "name": "python3"
  },
  "language_info": {
   "codemirror_mode": {
    "name": "ipython",
    "version": 3
   },
   "file_extension": ".py",
   "mimetype": "text/x-python",
   "name": "python",
   "nbconvert_exporter": "python",
   "pygments_lexer": "ipython3",
   "version": "3.10.10"
  }
 },
 "nbformat": 4,
 "nbformat_minor": 5
}
