{
 "cells": [
  {
   "cell_type": "code",
   "execution_count": 4,
   "id": "6f6560e4-c49c-4d65-adea-3d7a4fa024d7",
   "metadata": {
    "tags": []
   },
   "outputs": [],
   "source": [
    "from tokenizers import Tokenizer, models, pre_tokenizers, decoders\n",
    "from tokenizers.trainers import BpeTrainer"
   ]
  },
  {
   "cell_type": "markdown",
   "id": "c9a664d6-9a4e-420e-98db-369202f842a1",
   "metadata": {},
   "source": [
    "## Initialise tokenizer"
   ]
  },
  {
   "cell_type": "code",
   "execution_count": 11,
   "id": "7cb81e36-5e99-49c1-a3cd-0c6c946bb23c",
   "metadata": {},
   "outputs": [],
   "source": [
    "# Initialize the tokenizer\n",
    "tokenizer = Tokenizer(models.BPE())\n",
    "\n",
    "# Set the pre-tokenizer\n",
    "tokenizer.pre_tokenizer = pre_tokenizers.ByteLevel(add_prefix_space=True)\n",
    "\n",
    "# Set the decoder\n",
    "tokenizer.decoder = decoders.ByteLevel()"
   ]
  },
  {
   "cell_type": "markdown",
   "id": "6bb00c77-88a5-4e7b-b25a-f646aae27449",
   "metadata": {},
   "source": [
    "## Train tokenizer"
   ]
  },
  {
   "cell_type": "code",
   "execution_count": 12,
   "id": "aa9e5a10-4f66-40b4-b365-429a4c115fc5",
   "metadata": {},
   "outputs": [
    {
     "name": "stdout",
     "output_type": "stream",
     "text": [
      "\n",
      "\n",
      "\n"
     ]
    }
   ],
   "source": [
    "# Train the tokenizer on imdb corpus\n",
    "\n",
    "trainer = BpeTrainer(special_tokens=[\"<PAD>\", \"<UNK>\", \"<BOS>\", \"<EOS>\"])\n",
    "tokenizer.train(files=[\"data/imdb_text.txt\"], trainer=trainer)\n",
    "\n",
    "# Save the tokenizer\n",
    "tokenizer.save(\"models/tokenizer.json\")"
   ]
  },
  {
   "cell_type": "markdown",
   "id": "0478e747-01b1-4a9e-9669-eaf16e4583dd",
   "metadata": {
    "tags": []
   },
   "source": [
    "## How to load in the tokenizer elsewhere:"
   ]
  },
  {
   "cell_type": "code",
   "execution_count": 13,
   "id": "9d5889af-6a58-4570-9159-83853b8230e0",
   "metadata": {
    "tags": []
   },
   "outputs": [
    {
     "name": "stdout",
     "output_type": "stream",
     "text": [
      "Token IDs: [242, 275, 322, 12348, 4528, 4]\n",
      "Tokens: ['Ġthis', 'Ġmovie', 'Ġfr', 'icken', 'Ġsucks', '!']\n"
     ]
    }
   ],
   "source": [
    "# Load the tokenizer\n",
    "\n",
    "from tokenizers import Tokenizer\n",
    "\n",
    "tokenizer = Tokenizer.from_file(\"models/tokenizer.json\")\n",
    "\n",
    "# Tokenize a sentence\n",
    "sentence = \"this movie fricken sucks!\"\n",
    "output = tokenizer.encode(sentence)\n",
    "\n",
    "# Get the token IDs\n",
    "token_ids = output.ids\n",
    "\n",
    "# Get the token strings\n",
    "tokens = output.tokens\n",
    "\n",
    "print(f'Token IDs: {token_ids}')\n",
    "print(f'Tokens: {tokens}')"
   ]
  },
  {
   "cell_type": "code",
   "execution_count": 15,
   "id": "a7f44b6e-578f-42ae-ad11-7f3421a06564",
   "metadata": {
    "tags": []
   },
   "outputs": [
    {
     "data": {
      "text/plain": [
       "' this movie fricken sucks!'"
      ]
     },
     "execution_count": 15,
     "metadata": {},
     "output_type": "execute_result"
    }
   ],
   "source": [
    "tokenizer.decode(output.ids)"
   ]
  },
  {
   "cell_type": "code",
   "execution_count": null,
   "id": "01693bf4-ad21-4c23-89b2-172bae0d257e",
   "metadata": {},
   "outputs": [],
   "source": []
  }
 ],
 "metadata": {
  "kernelspec": {
   "display_name": "Python 3 (ipykernel)",
   "language": "python",
   "name": "python3"
  },
  "language_info": {
   "codemirror_mode": {
    "name": "ipython",
    "version": 3
   },
   "file_extension": ".py",
   "mimetype": "text/x-python",
   "name": "python",
   "nbconvert_exporter": "python",
   "pygments_lexer": "ipython3",
   "version": "3.8.10"
  }
 },
 "nbformat": 4,
 "nbformat_minor": 5
}
