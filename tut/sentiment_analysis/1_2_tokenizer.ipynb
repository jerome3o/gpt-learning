{
 "cells": [
  {
   "cell_type": "code",
   "execution_count": 2,
   "id": "6f6560e4-c49c-4d65-adea-3d7a4fa024d7",
   "metadata": {
    "tags": []
   },
   "outputs": [],
   "source": [
    "import torch\n",
    "\n",
    "from tokenizers import Tokenizer, models, pre_tokenizers, decoders\n",
    "from tokenizers.trainers import BpeTrainer\n",
    "\n",
    "import pandas as pd\n"
   ]
  },
  {
   "cell_type": "markdown",
   "id": "c9a664d6-9a4e-420e-98db-369202f842a1",
   "metadata": {},
   "source": [
    "## Initialise tokenizer"
   ]
  },
  {
   "cell_type": "code",
   "execution_count": 3,
   "id": "7cb81e36-5e99-49c1-a3cd-0c6c946bb23c",
   "metadata": {},
   "outputs": [],
   "source": [
    "# Initialize the tokenizer\n",
    "tokenizer = Tokenizer(models.BPE())\n",
    "\n",
    "# Set the pre-tokenizer\n",
    "tokenizer.pre_tokenizer = pre_tokenizers.ByteLevel(add_prefix_space=True)\n",
    "\n",
    "# Set the decoder\n",
    "tokenizer.decoder = decoders.ByteLevel()\n"
   ]
  },
  {
   "cell_type": "markdown",
   "id": "6bb00c77-88a5-4e7b-b25a-f646aae27449",
   "metadata": {},
   "source": [
    "## Train tokenizer"
   ]
  },
  {
   "cell_type": "code",
   "execution_count": 12,
   "id": "aa9e5a10-4f66-40b4-b365-429a4c115fc5",
   "metadata": {},
   "outputs": [
    {
     "name": "stdout",
     "output_type": "stream",
     "text": [
      "\n",
      "\n",
      "\n"
     ]
    }
   ],
   "source": [
    "# Train the tokenizer on imdb corpus\n",
    "\n",
    "trainer = BpeTrainer(special_tokens=[\"<PAD>\", \"<UNK>\", \"<BOS>\", \"<EOS>\"])\n",
    "tokenizer.train(files=[\"data/imdb_text.txt\"], trainer=trainer)\n",
    "\n",
    "# Save the tokenizer\n",
    "tokenizer.save(\"models/tokenizer.json\")\n"
   ]
  },
  {
   "cell_type": "markdown",
   "id": "0478e747-01b1-4a9e-9669-eaf16e4583dd",
   "metadata": {
    "tags": []
   },
   "source": [
    "## How to load in the tokenizer elsewhere:"
   ]
  },
  {
   "cell_type": "code",
   "execution_count": 4,
   "id": "9d5889af-6a58-4570-9159-83853b8230e0",
   "metadata": {
    "tags": []
   },
   "outputs": [
    {
     "name": "stdout",
     "output_type": "stream",
     "text": [
      "Token IDs: [242, 275, 322, 12348, 4528, 4]\n",
      "Tokens: ['Ġthis', 'Ġmovie', 'Ġfr', 'icken', 'Ġsucks', '!']\n"
     ]
    }
   ],
   "source": [
    "# Load the tokenizer\n",
    "\n",
    "from tokenizers import Tokenizer\n",
    "\n",
    "tokenizer = Tokenizer.from_file(\"models/tokenizer.json\")\n",
    "\n",
    "# Tokenize a sentence\n",
    "sentence = \"this movie fricken sucks!\"\n",
    "output = tokenizer.encode(sentence)\n",
    "\n",
    "# Get the token IDs\n",
    "token_ids = output.ids\n",
    "\n",
    "# Get the token strings\n",
    "tokens = output.tokens\n",
    "\n",
    "print(f\"Token IDs: {token_ids}\")\n",
    "print(f\"Tokens: {tokens}\")\n"
   ]
  },
  {
   "cell_type": "code",
   "execution_count": 5,
   "id": "a7f44b6e-578f-42ae-ad11-7f3421a06564",
   "metadata": {
    "tags": []
   },
   "outputs": [
    {
     "data": {
      "text/plain": [
       "' this movie fricken sucks!'"
      ]
     },
     "execution_count": 5,
     "metadata": {},
     "output_type": "execute_result"
    }
   ],
   "source": [
    "tokenizer.decode(output.ids)\n"
   ]
  },
  {
   "cell_type": "markdown",
   "id": "47416b6e-fa5e-4f89-8588-38b63714c65b",
   "metadata": {},
   "source": [
    "## Prepare training data"
   ]
  },
  {
   "cell_type": "code",
   "execution_count": 6,
   "id": "85351848-0dd6-4e2b-aa06-6d112d5b7574",
   "metadata": {
    "tags": []
   },
   "outputs": [
    {
     "data": {
      "text/html": [
       "<div>\n",
       "<style scoped>\n",
       "    .dataframe tbody tr th:only-of-type {\n",
       "        vertical-align: middle;\n",
       "    }\n",
       "\n",
       "    .dataframe tbody tr th {\n",
       "        vertical-align: top;\n",
       "    }\n",
       "\n",
       "    .dataframe thead th {\n",
       "        text-align: right;\n",
       "    }\n",
       "</style>\n",
       "<table border=\"1\" class=\"dataframe\">\n",
       "  <thead>\n",
       "    <tr style=\"text-align: right;\">\n",
       "      <th></th>\n",
       "      <th>review</th>\n",
       "      <th>sentiment</th>\n",
       "    </tr>\n",
       "  </thead>\n",
       "  <tbody>\n",
       "    <tr>\n",
       "      <th>0</th>\n",
       "      <td>[2, 1473, 198, 174, 487, 5139, 397, 3082, 234,...</td>\n",
       "      <td>positive</td>\n",
       "    </tr>\n",
       "    <tr>\n",
       "      <th>1</th>\n",
       "      <td>[2, 269, 1572, 680, 1455, 17, 299, 211, 256, 2...</td>\n",
       "      <td>positive</td>\n",
       "    </tr>\n",
       "    <tr>\n",
       "      <th>2</th>\n",
       "      <td>[2, 210, 867, 242, 253, 171, 1572, 586, 200, 3...</td>\n",
       "      <td>positive</td>\n",
       "    </tr>\n",
       "    <tr>\n",
       "      <th>3</th>\n",
       "      <td>[2, 7618, 448, 239, 171, 1056, 667, 171, 680, ...</td>\n",
       "      <td>negative</td>\n",
       "    </tr>\n",
       "    <tr>\n",
       "      <th>4</th>\n",
       "      <td>[2, 2123, 294, 20215, 239, 297, 9789, 206, 174...</td>\n",
       "      <td>positive</td>\n",
       "    </tr>\n",
       "  </tbody>\n",
       "</table>\n",
       "</div>"
      ],
      "text/plain": [
       "                                              review sentiment\n",
       "0  [2, 1473, 198, 174, 487, 5139, 397, 3082, 234,...  positive\n",
       "1  [2, 269, 1572, 680, 1455, 17, 299, 211, 256, 2...  positive\n",
       "2  [2, 210, 867, 242, 253, 171, 1572, 586, 200, 3...  positive\n",
       "3  [2, 7618, 448, 239, 171, 1056, 667, 171, 680, ...  negative\n",
       "4  [2, 2123, 294, 20215, 239, 297, 9789, 206, 174...  positive"
      ]
     },
     "execution_count": 6,
     "metadata": {},
     "output_type": "execute_result"
    }
   ],
   "source": [
    "all_data = pd.read_csv(\"data/imdb_data.csv\")\n",
    "\n",
    "# add <BOS> and <EOS> tokens\n",
    "all_data[\"review\"] = all_data[\"review\"].apply(lambda x: \"<BOS>\" + x + \"<EOS>\")\n",
    "\n",
    "# tokenize the reviews\n",
    "all_data[\"review\"] = all_data[\"review\"].apply(lambda x: tokenizer.encode(x).ids)\n",
    "\n",
    "# get pad token\n",
    "pad_token = tokenizer.token_to_id(\"<PAD>\")\n",
    "all_data.head()"
   ]
  },
  {
   "cell_type": "code",
   "execution_count": 20,
   "id": "f20fd201",
   "metadata": {},
   "outputs": [],
   "source": [
    "# max length of a review\n",
    "max_len = all_data[\"review\"].apply(lambda x: len(x)).max()\n"
   ]
  },
  {
   "cell_type": "code",
   "execution_count": 1,
   "id": "67fbabfc",
   "metadata": {},
   "outputs": [
    {
     "ename": "NameError",
     "evalue": "name 'max_len' is not defined",
     "output_type": "error",
     "traceback": [
      "\u001b[0;31m---------------------------------------------------------------------------\u001b[0m",
      "\u001b[0;31mNameError\u001b[0m                                 Traceback (most recent call last)",
      "Cell \u001b[0;32mIn[1], line 1\u001b[0m\n\u001b[0;32m----> 1\u001b[0m max_len\n",
      "\u001b[0;31mNameError\u001b[0m: name 'max_len' is not defined"
     ]
    }
   ],
   "source": [
    "\n",
    "\n",
    "# pack all the reviews in to a tensor with padding, do it efficiently af, use type hints\n",
    "def pack_reviews(reviews: pd.Series, pad_token: int, max_len: int) -> torch.Tensor:\n",
    "    # create a tensor of shape (len(reviews), max_len) filled with pad_token\n",
    "    packed = torch.full((len(reviews), max_len), pad_token, dtype=torch.long)\n",
    "    # loop over the reviews\n",
    "    for i, review in enumerate(reviews):\n",
    "        # get the length of the review\n",
    "        review_len = len(review)\n",
    "        # fill the tensor with the review\n",
    "        packed[i, :review_len] = torch.tensor(review)\n",
    "    return packed\n",
    "\n",
    "\n",
    "# apply this function to the reviews\n",
    "packed_reviews = pack_reviews(all_data[\"review\"], pad_token, max_len)\n",
    "\n",
    "# convert the labels to a tensor. the values are \"positive\" and \"negative\"\n",
    "# so we need to convert them to [1, 0] and [0, 1] respectively\n",
    "labels = torch.tensor(\n",
    "    all_data[\"sentiment\"]\n",
    "    .apply(lambda x: [1, 0] if x == \"positive\" else [0, 1])\n",
    "    .tolist()\n",
    ")\n"
   ]
  },
  {
   "cell_type": "code",
   "execution_count": null,
   "id": "90da4cfa",
   "metadata": {},
   "outputs": [],
   "source": []
  }
 ],
 "metadata": {
  "kernelspec": {
   "display_name": "Python 3 (ipykernel)",
   "language": "python",
   "name": "python3"
  },
  "language_info": {
   "codemirror_mode": {
    "name": "ipython",
    "version": 3
   },
   "file_extension": ".py",
   "mimetype": "text/x-python",
   "name": "python",
   "nbconvert_exporter": "python",
   "pygments_lexer": "ipython3",
   "version": "3.8.10"
  }
 },
 "nbformat": 4,
 "nbformat_minor": 5
}
