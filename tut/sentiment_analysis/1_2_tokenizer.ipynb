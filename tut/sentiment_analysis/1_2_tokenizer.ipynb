{
 "cells": [
  {
   "cell_type": "code",
   "execution_count": 7,
   "id": "6f6560e4-c49c-4d65-adea-3d7a4fa024d7",
   "metadata": {
    "tags": []
   },
   "outputs": [],
   "source": [
    "import torch\n",
    "\n",
    "from tokenizers import Tokenizer, models, pre_tokenizers, decoders\n",
    "from tokenizers.trainers import BpeTrainer\n",
    "\n",
    "import pandas as pd\n"
   ]
  },
  {
   "cell_type": "markdown",
   "id": "c9a664d6-9a4e-420e-98db-369202f842a1",
   "metadata": {},
   "source": [
    "## Initialise tokenizer"
   ]
  },
  {
   "cell_type": "code",
   "execution_count": 8,
   "id": "7cb81e36-5e99-49c1-a3cd-0c6c946bb23c",
   "metadata": {},
   "outputs": [],
   "source": [
    "# Initialize the tokenizer\n",
    "tokenizer = Tokenizer(models.BPE())\n",
    "\n",
    "# Set the pre-tokenizer\n",
    "tokenizer.pre_tokenizer = pre_tokenizers.ByteLevel(add_prefix_space=True)\n",
    "\n",
    "# Set the decoder\n",
    "tokenizer.decoder = decoders.ByteLevel()\n"
   ]
  },
  {
   "cell_type": "markdown",
   "id": "6bb00c77-88a5-4e7b-b25a-f646aae27449",
   "metadata": {},
   "source": [
    "## Train tokenizer"
   ]
  },
  {
   "cell_type": "code",
   "execution_count": 15,
   "id": "aa9e5a10-4f66-40b4-b365-429a4c115fc5",
   "metadata": {},
   "outputs": [],
   "source": [
    "# Train the tokenizer on imdb corpus\n",
    "\n",
    "# # commented out to avoid re-training the tokenizer\n",
    "# trainer = BpeTrainer(special_tokens=[\"<PAD>\", \"<UNK>\", \"<BOS>\", \"<EOS>\"])\n",
    "# tokenizer.train(files=[\"data/imdb_text.txt\"], trainer=trainer)\n",
    "\n",
    "# # Save the tokenizer\n",
    "# tokenizer.save(\"tut/sentiment_analysis/models/tokenizer.json\")\n"
   ]
  },
  {
   "cell_type": "markdown",
   "id": "0478e747-01b1-4a9e-9669-eaf16e4583dd",
   "metadata": {
    "tags": []
   },
   "source": [
    "## How to load in the tokenizer elsewhere:"
   ]
  },
  {
   "cell_type": "code",
   "execution_count": 14,
   "id": "9d5889af-6a58-4570-9159-83853b8230e0",
   "metadata": {
    "tags": []
   },
   "outputs": [
    {
     "name": "stdout",
     "output_type": "stream",
     "text": [
      "Token IDs: [242, 275, 322, 12348, 4528, 4]\n",
      "Tokens: ['Ġthis', 'Ġmovie', 'Ġfr', 'icken', 'Ġsucks', '!']\n"
     ]
    }
   ],
   "source": [
    "# Load the tokenizer\n",
    "\n",
    "from tokenizers import Tokenizer\n",
    "\n",
    "tokenizer = Tokenizer.from_file(\"tut/sentiment_analysis/models/tokenizer.json\")\n",
    "\n",
    "# Tokenize a sentence\n",
    "sentence = \"this movie fricken sucks!\"\n",
    "output = tokenizer.encode(sentence)\n",
    "\n",
    "# Get the token IDs\n",
    "token_ids = output.ids\n",
    "\n",
    "# Get the token strings\n",
    "tokens = output.tokens\n",
    "\n",
    "print(f\"Token IDs: {token_ids}\")\n",
    "print(f\"Tokens: {tokens}\")\n"
   ]
  },
  {
   "cell_type": "code",
   "execution_count": 4,
   "id": "a7f44b6e-578f-42ae-ad11-7f3421a06564",
   "metadata": {
    "tags": []
   },
   "outputs": [
    {
     "data": {
      "text/plain": [
       "' this movie fricken sucks!'"
      ]
     },
     "execution_count": 4,
     "metadata": {},
     "output_type": "execute_result"
    }
   ],
   "source": [
    "tokenizer.decode(output.ids)\n"
   ]
  },
  {
   "cell_type": "markdown",
   "id": "47416b6e-fa5e-4f89-8588-38b63714c65b",
   "metadata": {},
   "source": [
    "## Prepare training data"
   ]
  },
  {
   "cell_type": "code",
   "execution_count": 16,
   "id": "85351848-0dd6-4e2b-aa06-6d112d5b7574",
   "metadata": {
    "tags": []
   },
   "outputs": [],
   "source": [
    "all_data = pd.read_csv(\"tut/sentiment_analysis/data/imdb_data.csv\")\n",
    "\n",
    "# add <BOS> and <EOS> tokens\n",
    "all_data[\"review\"] = all_data[\"review\"].apply(lambda x: \"<BOS>\" + x + \"<EOS>\")\n",
    "\n",
    "# tokenize the reviews\n",
    "all_data[\"review\"] = all_data[\"review\"].apply(lambda x: tokenizer.encode(x).ids)\n",
    "\n",
    "# get pad token\n",
    "pad_token = tokenizer.token_to_id(\"<PAD>\")\n",
    "\n",
    "# max length of a review\n",
    "lengths = all_data[\"review\"].apply(lambda x: len(x))\n",
    "\n",
    "max_len = lengths.max()\n"
   ]
  },
  {
   "attachments": {},
   "cell_type": "markdown",
   "id": "35402a7a",
   "metadata": {},
   "source": [
    "## Pack reviews into square tensor"
   ]
  },
  {
   "cell_type": "code",
   "execution_count": 17,
   "id": "f20fd201",
   "metadata": {},
   "outputs": [],
   "source": [
    "# pack all the reviews in to a tensor with padding, do it efficiently af, use type hints\n",
    "def pack_reviews(reviews: pd.Series, pad_token: int, max_len: int) -> torch.Tensor:\n",
    "    # create a tensor of shape (len(reviews), max_len) filled with pad_token\n",
    "    packed = torch.full((len(reviews), max_len), pad_token, dtype=torch.long)\n",
    "    # loop over the reviews\n",
    "    for i, review in enumerate(reviews):\n",
    "        # get the length of the review\n",
    "        review_len = len(review)\n",
    "        # fill the tensor with the review\n",
    "        packed[i, :review_len] = torch.tensor(review)\n",
    "    return packed\n",
    "\n",
    "\n",
    "# apply this function to the reviews\n",
    "packed_reviews = pack_reviews(all_data[\"review\"], pad_token, max_len)\n"
   ]
  },
  {
   "attachments": {},
   "cell_type": "markdown",
   "id": "85838468",
   "metadata": {},
   "source": [
    "## Calculate labels"
   ]
  },
  {
   "cell_type": "code",
   "execution_count": 18,
   "id": "67fbabfc",
   "metadata": {},
   "outputs": [],
   "source": [
    "# convert the labels to a tensor. the values are \"positive\" and \"negative\"\n",
    "# convert them to 1 and 0, 1 for positive and 0 for negative\n",
    "labels = torch.tensor(all_data[\"sentiment\"] == \"positive\", dtype=torch.long)"
   ]
  },
  {
   "cell_type": "code",
   "execution_count": 19,
   "id": "59b9e343",
   "metadata": {},
   "outputs": [],
   "source": [
    "# convert lengths to tensor of ints\n",
    "lengths = torch.tensor(lengths.values, dtype=torch.int32)"
   ]
  },
  {
   "cell_type": "code",
   "execution_count": 20,
   "id": "90da4cfa",
   "metadata": {},
   "outputs": [
    {
     "data": {
      "text/plain": [
       "(torch.Size([50000, 3113]), torch.Size([50000]))"
      ]
     },
     "execution_count": 20,
     "metadata": {},
     "output_type": "execute_result"
    }
   ],
   "source": [
    "packed_reviews.shape, labels.shape"
   ]
  },
  {
   "cell_type": "code",
   "execution_count": 21,
   "id": "e677da1d",
   "metadata": {},
   "outputs": [],
   "source": [
    "torch.save(\n",
    "    {\"reviews\": packed_reviews, \"labels\": labels, \"lengths\": lengths},\n",
    "    \"tut/sentiment_analysis/data/imdb_data.pt\",\n",
    ")\n"
   ]
  },
  {
   "cell_type": "code",
   "execution_count": null,
   "id": "b5553a2b",
   "metadata": {},
   "outputs": [],
   "source": []
  }
 ],
 "metadata": {
  "kernelspec": {
   "display_name": "Python 3 (ipykernel)",
   "language": "python",
   "name": "python3"
  },
  "language_info": {
   "codemirror_mode": {
    "name": "ipython",
    "version": 3
   },
   "file_extension": ".py",
   "mimetype": "text/x-python",
   "name": "python",
   "nbconvert_exporter": "python",
   "pygments_lexer": "ipython3",
   "version": "3.8.10"
  }
 },
 "nbformat": 4,
 "nbformat_minor": 5
}
