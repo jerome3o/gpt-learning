{
 "cells": [
  {
   "attachments": {},
   "cell_type": "markdown",
   "id": "686b5cca-f5d2-4839-8c38-f88fc67f574d",
   "metadata": {},
   "source": [
    "# LSTM for Sentiment Analysis\n",
    "\n",
    "Followed [this tutorial](https://pytorch.org/tutorials/beginner/nlp/sequence_models_tutorial.html), and completed it [here](tut/nlp/4_lstm.ipynb)\n",
    "\n",
    "Helpful blogs:\n",
    "* [Understanding LSTM Networks](https://colah.github.io/posts/2015-08-Understanding-LSTMs/)\n",
    "* [The Unreasonable Effectiveness of Recurrent Neural Networks](http://karpathy.github.io/2015/05/21/rnn-effectiveness/)"
   ]
  },
  {
   "cell_type": "code",
   "execution_count": null,
   "id": "b8ef231c",
   "metadata": {},
   "outputs": [],
   "source": [
    "import torch\n",
    "import torch.nn as nn\n",
    "import torch.nn.functional as F\n",
    "\n",
    "\n",
    "\n",
    "class SentimentAnalysisModel(nn.Module):\n",
    "    def __init__(\n",
    "        self,\n",
    "        vocab_size: int,\n",
    "        emb_dim: int = 30,\n",
    "        hidden_size: int = 40,\n",
    "        n_rnn_layers: int = 1,\n",
    "    ):\n",
    "        super().__init__()\n",
    "        self.emb = nn.Embedding(\n",
    "            num_embeddings=vocab_size,\n",
    "            embedding_dim=emb_dim,\n",
    "        )\n",
    "\n",
    "\n",
    "        # # TODO: Change to lstm\n",
    "        # self.rnn = nn.RNN(\n",
    "        #     input_size=emb_dim,\n",
    "        #     hidden_size=hidden_size,\n",
    "        #     num_layers=n_rnn_layers,\n",
    "        # )\n",
    "\n",
    "        self.seq = nn.Sequential(\n",
    "            nn.Linear(hidden_size, 500),\n",
    "            nn.ReLU(),\n",
    "            nn.Linear(500, 2),\n",
    "        )\n",
    "\n",
    "    def forward(self, x: torch.Tensor, lengths: torch.Tensor):\n",
    "        # x shape: (B, L)\n",
    "        # convert token indices to embedding values\n",
    "        x = self.emb(x)\n",
    "        # x shape: (B, L, Emb dim)\n",
    "        \n",
    "        x = x.transpose(0, 1)\n",
    "\n",
    "        # # # # pack the sequence\n",
    "        # x = pack_padded_sequence(x, lengths, enforce_sorted=False)\n",
    "\n",
    "        # # run the rnn, only taking the final rnn hidden state from the last layer\n",
    "        # # TODO: understand the difference between the two outputs more\n",
    "        _, x = self.rnn(x) #, lengths=lengths)\n",
    "        # x shape: (B, n_rnn_layers, Hidden size?)\n",
    "\n",
    "\n",
    "        # take only the last layer\n",
    "        x = x[-1, :, :]\n",
    "\n",
    "\n",
    "        # x shape: (B, Hidden size?)\n",
    "\n",
    "        return self.seq(x)# Loading "
   ]
  },
  {
   "cell_type": "code",
   "execution_count": null,
   "id": "7eb95981",
   "metadata": {},
   "outputs": [],
   "source": []
  }
 ],
 "metadata": {
  "kernelspec": {
   "display_name": "Python 3 (ipykernel)",
   "language": "python",
   "name": "python3"
  },
  "language_info": {
   "codemirror_mode": {
    "name": "ipython",
    "version": 3
   },
   "file_extension": ".py",
   "mimetype": "text/x-python",
   "name": "python",
   "nbconvert_exporter": "python",
   "pygments_lexer": "ipython3",
   "version": "3.10.10"
  }
 },
 "nbformat": 4,
 "nbformat_minor": 5
}
