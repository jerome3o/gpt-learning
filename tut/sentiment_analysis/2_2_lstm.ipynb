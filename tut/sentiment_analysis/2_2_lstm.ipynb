{
 "cells": [
  {
   "attachments": {},
   "cell_type": "markdown",
   "id": "686b5cca-f5d2-4839-8c38-f88fc67f574d",
   "metadata": {},
   "source": [
    "# LSTM for Sentiment Analysis\n",
    "\n",
    "Followed [this tutorial](https://pytorch.org/tutorials/beginner/nlp/sequence_models_tutorial.html), and completed it [here](tut/nlp/4_lstm.ipynb)\n",
    "\n",
    "Helpful blogs:\n",
    "* [Understanding LSTM Networks](https://colah.github.io/posts/2015-08-Understanding-LSTMs/)\n",
    "* [The Unreasonable Effectiveness of Recurrent Neural Networks](http://karpathy.github.io/2015/05/21/rnn-effectiveness/)"
   ]
  },
  {
   "cell_type": "code",
   "execution_count": null,
   "id": "b8ef231c",
   "metadata": {},
   "outputs": [],
   "source": [
    "import torch\n",
    "import torch.nn as nn\n",
    "import torch.nn.functional as F\n",
    "import tokenizers\n",
    "from torch.nn.utils.rnn import pack_padded_sequence, pad_packed_sequence\n",
    "\n",
    "import sys\n",
    "sys.path.append(\"../..\")\n",
    "\n",
    "\n",
    "class SentimentAnalysisModel(nn.Module):\n",
    "    def __init__(\n",
    "        self,\n",
    "        vocab_size: int,\n",
    "        emb_dim: int = 30,\n",
    "        hidden_size: int = 40,\n",
    "        n_rnn_layers: int = 1,\n",
    "    ):\n",
    "        super().__init__()\n",
    "        self.emb = nn.Embedding(\n",
    "            num_embeddings=vocab_size,\n",
    "            embedding_dim=emb_dim,\n",
    "        )\n",
    "\n",
    "        self.lstm = nn.LSTM(\n",
    "            input_size=emb_dim,\n",
    "            hidden_size=hidden_size,\n",
    "            num_layers=n_rnn_layers,\n",
    "        )\n",
    "\n",
    "        self.seq = nn.Sequential(\n",
    "            nn.Linear(hidden_size, 500),\n",
    "            nn.ReLU(),\n",
    "            nn.Linear(500, 2),\n",
    "        )\n",
    "\n",
    "    def forward(self, x: torch.Tensor, lengths: torch.Tensor):\n",
    "\n",
    "\n",
    "        # x shape: (B, L)\n",
    "        # convert token indices to embedding values\n",
    "        x = self.emb(x)\n",
    "        # x shape: (B, L, Emb dim)\n",
    "\n",
    "        \n",
    "        x = x.transpose(0, 1)\n",
    "        \n",
    "        # Pack\n",
    "        x = pack_padded_sequence(x, lengths, enforce_sorted=False)\n",
    "\n",
    "        _, (h, _) = self.lstm(x)\n",
    "\n",
    "        return self.seq(h[-1, :, :])"
   ]
  },
  {
   "cell_type": "code",
   "execution_count": null,
   "id": "7eb95981",
   "metadata": {},
   "outputs": [],
   "source": [
    "from tut.sentiment_analysis.helpers import load_sentiment_data\n",
    "( \n",
    "    train_data,\n",
    "    train_labels,\n",
    "    train_lengths,\n",
    "    test_data,\n",
    "    test_labels,\n",
    "    test_lengths,\n",
    ") = load_sentiment_data()"
   ]
  },
  {
   "cell_type": "code",
   "execution_count": null,
   "id": "4b9e7084",
   "metadata": {},
   "outputs": [],
   "source": [
    "# load in tokenizer\n",
    "tokenizer = tokenizers.Tokenizer.from_file(\"models/tokenizer.json\")\n",
    "vocab_size = tokenizer.get_vocab_size()\n"
   ]
  },
  {
   "cell_type": "code",
   "execution_count": null,
   "id": "2dd0cbf6",
   "metadata": {},
   "outputs": [
    {
     "name": "stdout",
     "output_type": "stream",
     "text": [
      "0 10\n"
     ]
    },
    {
     "name": "stderr",
     "output_type": "stream",
     "text": [
      "100%|██████████| 10/10 [00:01<00:00,  6.09it/s]\n",
      "100%|██████████| 40/40 [00:04<00:00,  9.54it/s]\n"
     ]
    },
    {
     "name": "stdout",
     "output_type": "stream",
     "text": [
      "test:  0.50, 6.932585716247559\n",
      "train:  0.50, 27.736610412597656\n"
     ]
    },
    {
     "name": "stderr",
     "output_type": "stream",
     "text": [
      " 56%|█████▋    | 225/400 [00:18<00:13, 13.12it/s]"
     ]
    }
   ],
   "source": [
    "device = \"cuda\" if torch.cuda.is_available() else \"cpu\"\n",
    "model = SentimentAnalysisModel(vocab_size=vocab_size).to(device)\n",
    "\n",
    "optimizer = torch.optim.Adam(model.parameters(), lr=0.01)\n",
    "loss_function = F.cross_entropy\n",
    "\n",
    "# Training\n",
    "from tqdm import tqdm\n",
    "\n",
    "epochs = 10\n",
    "batch_size = 1000\n",
    "eval_batch_size = 1000\n",
    "\n",
    "\n",
    "def _calc_accuracy(\n",
    "    data: torch.Tensor,\n",
    "    labels: torch.Tensor,\n",
    "    lengths: torch.Tensor,\n",
    "    batch_size: torch.Tensor,\n",
    "):\n",
    "    cum_loss = 0\n",
    "    correct = 0\n",
    "    total = 0\n",
    "    with torch.no_grad():\n",
    "        for i in tqdm(range(0, len(data), batch_size)):\n",
    "            input = data[i : i + batch_size].to(device)\n",
    "            _labels = labels[i : i + batch_size].to(device)\n",
    "            _lengths = lengths[i : i + batch_size]\n",
    "\n",
    "            output = model(input, _lengths)\n",
    "            loss = loss_function(output, _labels)\n",
    "\n",
    "            cum_loss += loss\n",
    "            _, y_pred = torch.max(output, dim=1)\n",
    "            correct += sum(_labels == y_pred)\n",
    "            total += len(_labels)\n",
    "\n",
    "    return correct, total, cum_loss\n",
    "\n",
    "\n",
    "for epoch in range(epochs):\n",
    "    print(epoch, epochs)\n",
    "    test_correct, test_total, test_loss = _calc_accuracy(\n",
    "        test_data, test_labels, test_lengths, batch_size=eval_batch_size\n",
    "    )\n",
    "    train_correct, train_total, train_loss = _calc_accuracy(\n",
    "        train_data, train_labels, train_lengths, batch_size=eval_batch_size\n",
    "    )\n",
    "\n",
    "    print(f\"test: {test_correct / test_total: 0.2f}, {test_loss}\")\n",
    "    print(f\"train: {train_correct / train_total: 0.2f}, {train_loss}\")\n",
    "\n",
    "    for i in tqdm(range(0, len(train_data), batch_size)):\n",
    "        input = train_data[i : i + batch_size].to(device)\n",
    "        labels = train_labels[i : i + batch_size].to(device)\n",
    "        lengths = train_lengths[i : i + batch_size]\n",
    "\n",
    "        optimizer.zero_grad()\n",
    "        output = model(input, lengths)\n",
    "        loss = loss_function(output, labels)\n",
    "        loss.backward()\n",
    "        optimizer.step()\n"
   ]
  },
  {
   "cell_type": "code",
   "execution_count": null,
   "id": "bf8bfd11",
   "metadata": {},
   "outputs": [],
   "source": []
  },
  {
   "cell_type": "code",
   "execution_count": null,
   "id": "a475af35",
   "metadata": {},
   "outputs": [],
   "source": []
  }
 ],
 "metadata": {
  "kernelspec": {
   "display_name": "Python 3 (ipykernel)",
   "language": "python",
   "name": "python3"
  },
  "language_info": {
   "codemirror_mode": {
    "name": "ipython",
    "version": 3
   },
   "file_extension": ".py",
   "mimetype": "text/x-python",
   "name": "python",
   "nbconvert_exporter": "python",
   "pygments_lexer": "ipython3",
   "version": "3.8.10"
  }
 },
 "nbformat": 4,
 "nbformat_minor": 5
}
