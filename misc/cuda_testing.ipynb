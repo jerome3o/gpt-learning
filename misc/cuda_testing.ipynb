{
 "cells": [
  {
   "cell_type": "code",
   "execution_count": 1,
   "id": "f7a938c0-b244-440d-bb9b-9147b0918852",
   "metadata": {
    "tags": []
   },
   "outputs": [],
   "source": [
    "import torch\n",
    "import torch.nn.functional as F"
   ]
  },
  {
   "cell_type": "markdown",
   "id": "862cc32f-933c-4bac-9bdb-3cbfa47a638a",
   "metadata": {},
   "source": [
    "# General Memory Functions"
   ]
  },
  {
   "cell_type": "code",
   "execution_count": 2,
   "id": "15a3de08-d361-447e-a3fc-814653884b73",
   "metadata": {
    "tags": []
   },
   "outputs": [],
   "source": [
    "x = torch.randn(3, 3)"
   ]
  },
  {
   "cell_type": "code",
   "execution_count": 3,
   "id": "413d32d1-ac42-410d-8dc4-38d7b76c63f0",
   "metadata": {
    "tags": []
   },
   "outputs": [
    {
     "data": {
      "text/plain": [
       "4"
      ]
     },
     "execution_count": 3,
     "metadata": {},
     "output_type": "execute_result"
    }
   ],
   "source": [
    "x.element_size()"
   ]
  },
  {
   "cell_type": "code",
   "execution_count": 4,
   "id": "74b93453-c706-4a33-b4c6-7c4df0f98204",
   "metadata": {
    "tags": []
   },
   "outputs": [
    {
     "data": {
      "text/plain": [
       "9"
      ]
     },
     "execution_count": 4,
     "metadata": {},
     "output_type": "execute_result"
    }
   ],
   "source": [
    "x.numel()"
   ]
  },
  {
   "cell_type": "code",
   "execution_count": 5,
   "id": "6f2ff105-b076-4c61-b2da-96ba6b7efeaf",
   "metadata": {
    "tags": []
   },
   "outputs": [],
   "source": [
    "def sizeof_fmt(num, suffix=\"B\"):\n",
    "    for unit in [\"\", \"Ki\", \"Mi\", \"Gi\", \"Ti\", \"Pi\", \"Ei\", \"Zi\"]:\n",
    "        if abs(num) < 1024.0:\n",
    "            return f\"{num:3.1f}{unit}{suffix}\"\n",
    "        num /= 1024.0\n",
    "    return f\"{num:.1f}Yi{suffix}\"\n",
    "\n",
    "\n",
    "def mem_size(t: torch.Tensor):\n",
    "    return sizeof_fmt(t.element_size() * t.numel())\n"
   ]
  },
  {
   "cell_type": "code",
   "execution_count": 6,
   "id": "acabdf59-983b-4bc4-96d1-bf90786f19ec",
   "metadata": {
    "tags": []
   },
   "outputs": [
    {
     "data": {
      "text/plain": [
       "'36.0B'"
      ]
     },
     "execution_count": 6,
     "metadata": {},
     "output_type": "execute_result"
    }
   ],
   "source": [
    "mem_size(x)"
   ]
  },
  {
   "cell_type": "markdown",
   "id": "05f078e7-ea2b-4a34-b141-5df9ea95958c",
   "metadata": {},
   "source": [
    "# RAM Use\n",
    "\n",
    "Resting RAM Use 2.02gb (jupyter, OS, other random stuff)"
   ]
  },
  {
   "cell_type": "code",
   "execution_count": 7,
   "id": "852121cb-bf96-4cd2-b6bb-77c0c4153cd2",
   "metadata": {
    "tags": []
   },
   "outputs": [
    {
     "data": {
      "text/plain": [
       "'3.7GiB'"
      ]
     },
     "execution_count": 7,
     "metadata": {},
     "output_type": "execute_result"
    }
   ],
   "source": [
    "# RAM jumps up here to 5.76gb\n",
    "t1 = torch.randn((100000, 10000))\n",
    "mem_size(t1)"
   ]
  },
  {
   "cell_type": "code",
   "execution_count": 8,
   "id": "3445411f-81c4-4c85-bf31-0ecc18b06e71",
   "metadata": {
    "tags": []
   },
   "outputs": [],
   "source": [
    "# RAM jumps up to ~9.3gb, until execution completes and then drops\n",
    "# to 5.76gb again\n",
    "# memory of previous variable not released until new allocation \n",
    "# complete (or the GC is a bit slow)\n",
    "t1 = torch.randn((100000, 10000))"
   ]
  },
  {
   "cell_type": "code",
   "execution_count": 10,
   "id": "fb32c18f-d972-40c4-a6e8-a21abad11081",
   "metadata": {
    "tags": []
   },
   "outputs": [],
   "source": [
    "# Drops to 2.02gb, after GC\n",
    "t1 = None"
   ]
  },
  {
   "cell_type": "code",
   "execution_count": 11,
   "id": "1269a0c7-28eb-4a1b-af3e-d640c2cebe4b",
   "metadata": {
    "tags": []
   },
   "outputs": [],
   "source": [
    "# Getting back to 5.76gb\n",
    "t1 = torch.randn((100000, 10000))"
   ]
  },
  {
   "cell_type": "code",
   "execution_count": 16,
   "id": "72cbb9a8-1e71-4b84-9fbe-6cfc8cda5e31",
   "metadata": {
    "tags": []
   },
   "outputs": [],
   "source": [
    "# Memory drops before rising again\n",
    "t1 = None\n",
    "t1 = torch.randn((100000, 10000))"
   ]
  },
  {
   "cell_type": "code",
   "execution_count": 18,
   "id": "a7092c14-f08b-49a7-836e-72c6a36e493c",
   "metadata": {
    "tags": []
   },
   "outputs": [
    {
     "data": {
      "text/plain": [
       "0"
      ]
     },
     "execution_count": 18,
     "metadata": {},
     "output_type": "execute_result"
    }
   ],
   "source": [
    "# Could also force a gc with:\n",
    "import gc\n",
    "t1 = None\n",
    "gc.collect()"
   ]
  },
  {
   "cell_type": "markdown",
   "id": "93754051-7be6-488b-ab6c-46e4a2ae14c9",
   "metadata": {},
   "source": [
    "# VRAM Use\n",
    "\n",
    "Investigating VRAM usage on a AMD GPU, with ROCm 5.4.3.50403-121~20.04"
   ]
  },
  {
   "cell_type": "code",
   "execution_count": null,
   "id": "f9e8e405-7ca4-42b9-8d67-aa6bf575550a",
   "metadata": {},
   "outputs": [],
   "source": [
    "t1 = "
   ]
  }
 ],
 "metadata": {
  "kernelspec": {
   "display_name": "Python 3 (ipykernel)",
   "language": "python",
   "name": "python3"
  },
  "language_info": {
   "codemirror_mode": {
    "name": "ipython",
    "version": 3
   },
   "file_extension": ".py",
   "mimetype": "text/x-python",
   "name": "python",
   "nbconvert_exporter": "python",
   "pygments_lexer": "ipython3",
   "version": "3.8.10"
  }
 },
 "nbformat": 4,
 "nbformat_minor": 5
}
