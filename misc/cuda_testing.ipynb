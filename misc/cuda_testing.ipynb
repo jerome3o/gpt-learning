{
 "cells": [
  {
   "cell_type": "code",
   "execution_count": 21,
   "id": "f7a938c0-b244-440d-bb9b-9147b0918852",
   "metadata": {
    "tags": []
   },
   "outputs": [],
   "source": [
    "import torch\n",
    "import torch.nn.functional as F\n",
    "import gc"
   ]
  },
  {
   "cell_type": "markdown",
   "id": "862cc32f-933c-4bac-9bdb-3cbfa47a638a",
   "metadata": {},
   "source": [
    "# General Memory Functions"
   ]
  },
  {
   "cell_type": "code",
   "execution_count": 22,
   "id": "6f2ff105-b076-4c61-b2da-96ba6b7efeaf",
   "metadata": {
    "tags": []
   },
   "outputs": [],
   "source": [
    "def sizeof_fmt(num, suffix=\"B\"):\n",
    "    for unit in [\"\", \"Ki\", \"Mi\", \"Gi\", \"Ti\", \"Pi\", \"Ei\", \"Zi\"]:\n",
    "        if abs(num) < 1024.0:\n",
    "            return f\"{num:3.1f}{unit}{suffix}\"\n",
    "        num /= 1024.0\n",
    "    return f\"{num:.1f}Yi{suffix}\"\n",
    "\n",
    "\n",
    "def mem_size(t: torch.Tensor):\n",
    "    return sizeof_fmt(t.element_size() * t.numel())\n",
    "\n",
    "def mem_summary():\n",
    "    for d in range(torch.cuda.device_count()):\n",
    "        avail, total = torch.cuda.mem_get_info(d)\n",
    "        used = total - avail\n",
    "        print(f\"cuda:{d}: {sizeof_fmt(used)} ({(used / total)*100:0.2f}%)\")\n"
   ]
  },
  {
   "cell_type": "code",
   "execution_count": 23,
   "id": "d1ac06f3-165c-446d-a440-77032a4d9043",
   "metadata": {
    "tags": []
   },
   "outputs": [
    {
     "name": "stdout",
     "output_type": "stream",
     "text": [
      "cuda:0: 0.0B (0.00%)\n",
      "cuda:1: 0.0B (0.00%)\n"
     ]
    }
   ],
   "source": [
    "mem_summary()"
   ]
  },
  {
   "cell_type": "markdown",
   "id": "05f078e7-ea2b-4a34-b141-5df9ea95958c",
   "metadata": {},
   "source": [
    "# RAM Use\n",
    "\n",
    "Resting RAM Use 2.02gb (jupyter, OS, other random stuff)"
   ]
  },
  {
   "cell_type": "code",
   "execution_count": 24,
   "id": "852121cb-bf96-4cd2-b6bb-77c0c4153cd2",
   "metadata": {
    "tags": []
   },
   "outputs": [
    {
     "data": {
      "text/plain": [
       "'3.7GiB'"
      ]
     },
     "execution_count": 24,
     "metadata": {},
     "output_type": "execute_result"
    }
   ],
   "source": [
    "# RAM jumps up here to 5.76gb\n",
    "t1 = torch.randn((100000, 10000))\n",
    "mem_size(t1)"
   ]
  },
  {
   "cell_type": "code",
   "execution_count": 25,
   "id": "3445411f-81c4-4c85-bf31-0ecc18b06e71",
   "metadata": {
    "tags": []
   },
   "outputs": [],
   "source": [
    "# RAM jumps up to ~9.3gb, until execution completes and then drops\n",
    "# to 5.76gb again\n",
    "# memory of previous variable not released until new allocation \n",
    "# complete (or the GC is a bit slow)\n",
    "t1 = torch.randn((100000, 10000))"
   ]
  },
  {
   "cell_type": "code",
   "execution_count": 26,
   "id": "fb32c18f-d972-40c4-a6e8-a21abad11081",
   "metadata": {
    "tags": []
   },
   "outputs": [],
   "source": [
    "# Drops to 2.02gb, after GC\n",
    "t1 = None"
   ]
  },
  {
   "cell_type": "code",
   "execution_count": 27,
   "id": "1269a0c7-28eb-4a1b-af3e-d640c2cebe4b",
   "metadata": {
    "tags": []
   },
   "outputs": [],
   "source": [
    "# Getting back to 5.76gb\n",
    "t1 = torch.randn((100000, 10000))"
   ]
  },
  {
   "cell_type": "code",
   "execution_count": 28,
   "id": "72cbb9a8-1e71-4b84-9fbe-6cfc8cda5e31",
   "metadata": {
    "tags": []
   },
   "outputs": [],
   "source": [
    "# Memory drops before rising again\n",
    "t1 = None\n",
    "t1 = torch.randn((100000, 10000))"
   ]
  },
  {
   "cell_type": "code",
   "execution_count": 29,
   "id": "a7092c14-f08b-49a7-836e-72c6a36e493c",
   "metadata": {
    "tags": []
   },
   "outputs": [
    {
     "data": {
      "text/plain": [
       "0"
      ]
     },
     "execution_count": 29,
     "metadata": {},
     "output_type": "execute_result"
    }
   ],
   "source": [
    "# Could also force a gc with:\n",
    "t1 = None\n",
    "gc.collect()"
   ]
  },
  {
   "cell_type": "markdown",
   "id": "93754051-7be6-488b-ab6c-46e4a2ae14c9",
   "metadata": {},
   "source": [
    "# VRAM Use\n",
    "\n",
    "Investigating VRAM usage on a AMD GPU, with ROCm 5.4.3.50403-121~20.04"
   ]
  },
  {
   "cell_type": "code",
   "execution_count": 30,
   "id": "c02272cf-bdad-4dc6-98c4-f8260f894d8b",
   "metadata": {
    "tags": []
   },
   "outputs": [],
   "source": [
    "device = \"cuda:1\""
   ]
  },
  {
   "cell_type": "code",
   "execution_count": 31,
   "id": "f9e8e405-7ca4-42b9-8d67-aa6bf575550a",
   "metadata": {},
   "outputs": [
    {
     "name": "stdout",
     "output_type": "stream",
     "text": [
      "cuda:0: 0.0B (0.00%)\n",
      "cuda:1: 3.7GiB (23.31%)\n"
     ]
    }
   ],
   "source": [
    "t1 = torch.randn((100000, 10000), device=device)\n",
    "mem_summary()\n",
    "\n",
    "# VRAM goes to ~4gb"
   ]
  },
  {
   "cell_type": "code",
   "execution_count": 32,
   "id": "90bee876-c09b-481e-90c9-a0ad58dc3604",
   "metadata": {
    "tags": []
   },
   "outputs": [
    {
     "name": "stdout",
     "output_type": "stream",
     "text": [
      "cuda:0: 0.0B (0.00%)\n",
      "cuda:1: 7.5GiB (46.63%)\n"
     ]
    }
   ],
   "source": [
    "t1 = torch.randn((100000, 10000), device=device)\n",
    "mem_summary()\n",
    "\n",
    "# VRAM jumps up to ~7.5gb??"
   ]
  },
  {
   "cell_type": "code",
   "execution_count": 33,
   "id": "50538cfc-a27e-4d69-9858-786b98b1ea6c",
   "metadata": {
    "tags": []
   },
   "outputs": [
    {
     "name": "stdout",
     "output_type": "stream",
     "text": [
      "cuda:0: 0.0B (0.00%)\n",
      "cuda:1: 7.5GiB (46.63%)\n"
     ]
    }
   ],
   "source": [
    "t1 = torch.randn((100000, 10000), device=device)\n",
    "mem_summary()\n",
    "\n",
    "# Stays at 7.5gb?"
   ]
  },
  {
   "cell_type": "code",
   "execution_count": 34,
   "id": "48c42bec-da0e-4c01-aa36-194197245812",
   "metadata": {
    "tags": []
   },
   "outputs": [
    {
     "name": "stdout",
     "output_type": "stream",
     "text": [
      "cuda:0: 0.0B (0.00%)\n",
      "cuda:1: 7.5GiB (46.63%)\n"
     ]
    }
   ],
   "source": [
    "t1 = None\n",
    "gc.collect()\n",
    "mem_summary()\n",
    "# GC doesn't clear the VRAM"
   ]
  },
  {
   "cell_type": "code",
   "execution_count": 35,
   "id": "ae3b0ee3-9b17-40fc-bdaa-a40a9385d3e7",
   "metadata": {
    "tags": []
   },
   "outputs": [
    {
     "name": "stdout",
     "output_type": "stream",
     "text": [
      "cuda:0: 0.0B (0.00%)\n",
      "cuda:1: 0.0B (0.00%)\n"
     ]
    }
   ],
   "source": [
    "t1 = None\n",
    "torch.cuda.ipc_collect()\n",
    "torch.cuda.empty_cache()\n",
    "\n",
    "mem_summary()\n",
    "\n",
    "# this does?"
   ]
  },
  {
   "cell_type": "markdown",
   "id": "d3aa0af8-266f-44c8-9047-b6aed4a9ad3c",
   "metadata": {},
   "source": [
    "# Avoiding GPU memory leaks\n",
    "\n",
    "Assigning an old var to None and running gc doesn't clear VRAM\n",
    "\n",
    "But calling: \n",
    "```python\n",
    "torch.cuda.ipc_collect()\n",
    "torch.cuda.empty_cache()\n",
    "```\n",
    "does\n",
    "\n",
    "Turns out you only need\n",
    "```python\n",
    "torch.cuda.empty_cache()\n",
    "```\n",
    "\n",
    "Following is a quick look into how this works"
   ]
  },
  {
   "cell_type": "code",
   "execution_count": 36,
   "id": "c13acf8e-7f23-4a6f-9488-24d150c4a6ac",
   "metadata": {
    "tags": []
   },
   "outputs": [
    {
     "name": "stdout",
     "output_type": "stream",
     "text": [
      "cuda:0: 0.0B (0.00%)\n",
      "cuda:1: 3.7GiB (23.31%)\n"
     ]
    }
   ],
   "source": [
    "t1 = torch.randn((100000, 10000), device=device)\n",
    "t1 = None\n",
    "mem_summary()"
   ]
  },
  {
   "cell_type": "code",
   "execution_count": 37,
   "id": "b8080018-c253-4a6c-91ec-fa165625f113",
   "metadata": {
    "tags": []
   },
   "outputs": [
    {
     "name": "stdout",
     "output_type": "stream",
     "text": [
      "cuda:0: 0.0B (0.00%)\n",
      "cuda:1: 0.0B (0.00%)\n"
     ]
    }
   ],
   "source": [
    "torch.cuda.empty_cache()\n",
    "mem_summary()\n",
    "# Empty cache does it without ipc_collect?"
   ]
  },
  {
   "cell_type": "code",
   "execution_count": 19,
   "id": "e9f070b6-8cb7-495d-84ba-ec9905a6d115",
   "metadata": {
    "tags": []
   },
   "outputs": [
    {
     "name": "stdout",
     "output_type": "stream",
     "text": [
      "cuda:0: 0.0B (0.00%)\n",
      "cuda:1: 7.5GiB (46.63%)\n",
      "\n",
      "after empty_cache:\n",
      "cuda:0: 0.0B (0.00%)\n",
      "cuda:1: 0.0B (0.00%)\n"
     ]
    }
   ],
   "source": [
    "t1 = torch.randn((100000, 10000), device=device)\n",
    "t1 = torch.randn((100000, 10000), device=device)\n",
    "t1 = torch.randn((100000, 10000), device=device)\n",
    "t1 = torch.randn((100000, 10000), device=device)\n",
    "t1 = torch.randn((100000, 10000), device=device)\n",
    "t1 = None\n",
    "\n",
    "mem_summary()\n",
    "\n",
    "torch.cuda.empty_cache()\n",
    "print(\"\\nafter empty_cache:\")\n",
    "mem_summary()"
   ]
  },
  {
   "cell_type": "code",
   "execution_count": 20,
   "id": "a7035532-6472-4625-b3e9-6a2d361cd8b5",
   "metadata": {
    "tags": []
   },
   "outputs": [
    {
     "name": "stdout",
     "output_type": "stream",
     "text": [
      "\n",
      "after empty_cache:\n",
      "cuda:0: 0.0B (0.00%)\n",
      "cuda:1: 3.7GiB (23.31%)\n",
      "cuda:0: 0.0B (0.00%)\n",
      "cuda:1: 3.7GiB (23.31%)\n",
      "\n",
      "after empty_cache:\n",
      "cuda:0: 0.0B (0.00%)\n",
      "cuda:1: 0.0B (0.00%)\n"
     ]
    }
   ],
   "source": [
    "# try making it on cpu first\n",
    "t1 = torch.randn((100000, 10000))\n",
    "t1 = t1.to(device)\n",
    "\n",
    "print(\"\\nafter empty_cache:\")\n",
    "mem_summary()\n",
    "\n",
    "t1 = torch.randn((100000, 10000))\n",
    "t1 = t1.to(device)\n",
    "\n",
    "t1 = None\n",
    "mem_summary()\n",
    "\n",
    "torch.cuda.empty_cache()\n",
    "\n",
    "print(\"\\nafter empty_cache:\")\n",
    "mem_summary()"
   ]
  },
  {
   "cell_type": "code",
   "execution_count": 107,
   "id": "24a652bc-0935-41e4-b5dd-e106b06d8aae",
   "metadata": {
    "tags": []
   },
   "outputs": [
    {
     "data": {
      "text/plain": [
       "'2.1.0.dev20230303+rocm5.4.2'"
      ]
     },
     "execution_count": 107,
     "metadata": {},
     "output_type": "execute_result"
    }
   ],
   "source": [
    "torch.__version__"
   ]
  },
  {
   "cell_type": "code",
   "execution_count": null,
   "id": "39761e5b-4809-47c0-8bf8-c5674dfe1d3d",
   "metadata": {},
   "outputs": [],
   "source": []
  }
 ],
 "metadata": {
  "kernelspec": {
   "display_name": "Python 3 (ipykernel)",
   "language": "python",
   "name": "python3"
  },
  "language_info": {
   "codemirror_mode": {
    "name": "ipython",
    "version": 3
   },
   "file_extension": ".py",
   "mimetype": "text/x-python",
   "name": "python",
   "nbconvert_exporter": "python",
   "pygments_lexer": "ipython3",
   "version": "3.8.10"
  }
 },
 "nbformat": 4,
 "nbformat_minor": 5
}
